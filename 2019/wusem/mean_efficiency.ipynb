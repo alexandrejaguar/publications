{
 "cells": [
  {
   "cell_type": "code",
   "execution_count": null,
   "metadata": {},
   "outputs": [],
   "source": [
    "import pandas as pd\n",
    "import numpy as np"
   ]
  },
  {
   "cell_type": "code",
   "execution_count": null,
   "metadata": {},
   "outputs": [],
   "source": [
    "manual_data01_45 = pd.read_excel('manual_count/manual_dataset01_Kr-78_4,5min_incid.xls')\n",
    "manual_data01_85 = pd.read_excel('manual_count/manual_dataset01_Kr-78_8,5min_incid.xls')\n",
    "manual_data02 = pd.read_excel('manual_count/manual_dataset02.xls')\n",
    "\n",
    "auto_data01_45 = pd.read_csv('auto_count/auto_dataset01_Kr-78_4,5min_incid.txt')\n",
    "auto_data01_85 = pd.read_csv('auto_count/auto_dataset01_Kr-78_8,5min_incid.txt')\n",
    "auto_data02 = pd.read_csv('auto_count/auto_dataset02.txt')"
   ]
  },
  {
   "cell_type": "code",
   "execution_count": null,
   "metadata": {},
   "outputs": [],
   "source": [
    "auto = np.asarray(list(auto_data01_45[(auto_data01_45['initial_radius'] == 20) &\n",
    "                                      (auto_data01_45['delta_radius'] == 2)].auto_count) +\n",
    "                  list(auto_data01_85[(auto_data01_85['initial_radius'] == 5) &\n",
    "                                      (auto_data01_85['delta_radius'] == 4)].auto_count) +\n",
    "                  list(auto_data02[(auto_data02['initial_radius'] == 10) &\n",
    "                                      (auto_data02['delta_radius'] == 8)].auto_count))"
   ]
  },
  {
   "cell_type": "code",
   "execution_count": null,
   "metadata": {},
   "outputs": [],
   "source": [
    "manual = np.asarray(list(manual_data01_45.manual_count) + \n",
    "                    list(manual_data01_85.manual_count) +\n",
    "                    list(manual_data02.manual_count))"
   ]
  },
  {
   "cell_type": "code",
   "execution_count": null,
   "metadata": {},
   "outputs": [],
   "source": [
    "smp_mean = np.mean(auto / manual)\n",
    "smp_stdmean = np.std(auto / manual) / np.sqrt(len(auto))"
   ]
  },
  {
   "cell_type": "code",
   "execution_count": null,
   "metadata": {},
   "outputs": [],
   "source": [
    "print('mu = ', smp_mean, ', sigma = ', smp_stdmean)"
   ]
  },
  {
   "cell_type": "code",
   "execution_count": null,
   "metadata": {},
   "outputs": [],
   "source": []
  }
 ],
 "metadata": {
  "kernelspec": {
   "display_name": "Python 3",
   "language": "python",
   "name": "python3"
  },
  "language_info": {
   "codemirror_mode": {
    "name": "ipython",
    "version": 3
   },
   "file_extension": ".py",
   "mimetype": "text/x-python",
   "name": "python",
   "nbconvert_exporter": "python",
   "pygments_lexer": "ipython3",
   "version": "3.6.3"
  }
 },
 "nbformat": 4,
 "nbformat_minor": 2
}
