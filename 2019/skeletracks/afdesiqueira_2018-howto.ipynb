{
 "cells": [
  {
   "cell_type": "markdown",
   "metadata": {},
   "source": [
    "# skeletracks: automatic separation of overlapping fission tracks in apatite and muscovite using image processing\n",
    "\n",
    "## Alexandre Fioravante de Siqueira<sup>1,2</sup>, Wagner Massayuki Nakasuga<sup>1</sup>, Sandro Guedes de Oliveira<sup>1</sup>\n",
    "\n",
    "<sup>1</sup> _Departamento de Raios Cósmicos e Cronologia, IFGW, University of Campinas, Brazil_\n",
    "\n",
    "<sup>2</sup> _Institut für Geologie, TU Bergakademie Freiberg, Germany_"
   ]
  },
  {
   "cell_type": "markdown",
   "metadata": {},
   "source": [
    "```\n",
    "Copyright (C) 2018 Alexandre Fioravante de Siqueira\n",
    "\n",
    "This file is part of 'skeletracks: automatic separation of overlapping\n",
    "fission tracks in apatite and muscovite using image processing -\n",
    "Supplementary Material'.\n",
    "\n",
    "'skeletracks: automatic separation of overlapping fission tracks\n",
    "in apatite and muscovite using image processing - Supplementary Material'\n",
    "is free software: you can redistribute it and/or modify it under\n",
    "the terms of the GNU General Public License as published by the\n",
    "Free Software Foundation, either version 3 of the License, or\n",
    "(at your option) any later version.\n",
    "\n",
    "'skeletracks: automatic separation of overlapping fission tracks\n",
    "in apatite and muscovite using image processing - Supplementary Material'\n",
    "is distributed in the hope that it will be useful,\n",
    "but WITHOUT ANY WARRANTY; without even the implied warranty of\n",
    "MERCHANTABILITY or FITNESS FOR A PARTICULAR PURPOSE.  See the\n",
    "GNU General Public License for more details.\n",
    "\n",
    "You should have received a copy of the GNU General Public License\n",
    "along with 'Segmentation of nearly isotropic overlapped tracks in\n",
    "photomicrographs using successive erosions as watershed markers -\n",
    "Supplementary Material'.  If not, see <http://www.gnu.org/licenses/>.\n",
    "```"
   ]
  },
  {
   "cell_type": "markdown",
   "metadata": {},
   "source": [
    "## Reproducing this paper and using the supplementary code: a how-to\n",
    "\n",
    "Thank you for downloading these files. Before using this material, please download this file: <https://drive.google.com/open?id=1sQgTMK6_curfAWV3pw9ZIHaCUmjCPQwo>. After downloading, please unzip the file and place the contents in the folder containing all Supplementary Code.\n",
    "\n",
    "### Installing Python\n",
    "\n",
    "* If you do not have Python and the necessary modules installed on your PC, please install Anaconda before using this how-to: <https://www.anaconda.com/download/>. Download the suitable package according to your system, and install it following the page instructions. We use Python 3 for implementing and running this code.\n",
    "\n",
    "### Importing the necessary modules\n",
    "\n",
    "* This code is based on several Python modules. We need to import them before their use."
   ]
  },
  {
   "cell_type": "code",
   "execution_count": 7,
   "metadata": {},
   "outputs": [],
   "source": [
    "from glob import glob\n",
    "from itertools import combinations, permutations, product\n",
    "from matplotlib import rcParams\n",
    "from matplotlib.ticker import MultipleLocator\n",
    "from mpl_toolkits.axes_grid1 import make_axes_locatable\n",
    "from scipy import ndimage\n",
    "from scipy.ndimage.morphology import binary_fill_holes\n",
    "from scipy.stats import norm\n",
    "from skimage.color import gray2rgb\n",
    "from skimage.draw import line\n",
    "from skimage.exposure import rescale_intensity\n",
    "from skimage.graph import route_through_array\n",
    "from skimage import io\n",
    "from skimage.util import img_as_float, img_as_ubyte\n",
    "from skimage.filters import threshold_otsu, threshold_yen, threshold_li, threshold_isodata\n",
    "from skimage.measure import regionprops, label, compare_ssim\n",
    "from skimage.morphology import remove_small_objects, skeletonize, skeletonize_3d\n",
    "from skimage.restoration import denoise_tv_chambolle\n",
    "from skimage.segmentation import clear_border\n",
    "\n",
    "import matplotlib.mlab as mlab\n",
    "import matplotlib.pyplot as plt\n",
    "import matplotlib.patches as mpatches\n",
    "import numpy as np\n",
    "import pandas as pd\n",
    "import os\n",
    "import statistics as stats\n",
    "import warnings"
   ]
  },
  {
   "cell_type": "markdown",
   "metadata": {},
   "source": [
    "* Now we import the functions presented in this study. They are inside the file `desiqueira2018.py`; please ensure that you are executing this how-to in the same folder as these functions, or the following command will return an error."
   ]
  },
  {
   "cell_type": "code",
   "execution_count": 8,
   "metadata": {},
   "outputs": [],
   "source": [
    "import desiqueira2018 as ds"
   ]
  },
  {
   "cell_type": "markdown",
   "metadata": {},
   "source": [
    "### Some settings\n",
    "\n",
    "* Here we establish a default font size, modify the resulting plots, ask to Matplotlib draw them on this how-to (and not on a separate window), and disable all warnings that could be generated. Since we will work with a large number of images, this is useful to avoid the several warnings that would appear."
   ]
  },
  {
   "cell_type": "code",
   "execution_count": 9,
   "metadata": {},
   "outputs": [],
   "source": [
    "default_fontsize = 15\n",
    "\n",
    "plt.rcParams['font.family'] = 'monospace'\n",
    "plt.rcParams['font.size'] = 15\n",
    "plt.rcParams['axes.labelsize'] = plt.rcParams['font.size']\n",
    "plt.rcParams['axes.titlesize'] = 1.5*plt.rcParams['font.size']\n",
    "plt.rcParams['legend.fontsize'] = 1.5*plt.rcParams['font.size']\n",
    "plt.rcParams['xtick.labelsize'] = plt.rcParams['font.size']\n",
    "plt.rcParams['ytick.labelsize'] = plt.rcParams['font.size']\n",
    "\n",
    "%matplotlib inline\n",
    "warnings.filterwarnings('ignore')"
   ]
  },
  {
   "cell_type": "markdown",
   "metadata": {},
   "source": [
    "### Calling support functions\n",
    "\n",
    "* This how-to depends on some functions to generate results and to help plotting data. Here we call all these functions."
   ]
  },
  {
   "cell_type": "code",
   "execution_count": 10,
   "metadata": {},
   "outputs": [],
   "source": [
    "from supmat_support import *"
   ]
  },
  {
   "cell_type": "markdown",
   "metadata": {},
   "source": [
    "### Defining helping constants\n",
    "\n",
    "* Here we define some helping constants: `WEIGHT_FILTER`, the weight for the TV Chambolle function, and `MIN_SIZE`, the minimum area for considering an interest region as a track."
   ]
  },
  {
   "cell_type": "code",
   "execution_count": 12,
   "metadata": {},
   "outputs": [],
   "source": [
    "WEIGHT_FILTER = 0.05\n",
    "MIN_SIZE = 25"
   ]
  },
  {
   "cell_type": "markdown",
   "metadata": {},
   "source": [
    "## Obtaining the image collection\n",
    "\n",
    "* First, we use `ImageCollection()` to read all images in the folder `orig_figures`. After that, we print the number of images in this dataset."
   ]
  },
  {
   "cell_type": "code",
   "execution_count": 13,
   "metadata": {},
   "outputs": [
    {
     "name": "stdout",
     "output_type": "stream",
     "text": [
      "Number of images on dataset:  79\n"
     ]
    }
   ],
   "source": [
    "fnames_mica = sorted(glob('orig_figures/*mica*.tif'))\n",
    "imgset_mica = [io.imread(fname, as_gray=True) for fname in fnames_mica]\n",
    "\n",
    "fnames_apte = sorted(glob('orig_figures/*apatite*.tif'))\n",
    "imgset_apte = [io.imread(fname, as_gray=True) for fname in fnames_apte]\n",
    "\n",
    "print('Number of images on dataset: ', len(imgset_mica) + len(imgset_apte))"
   ]
  },
  {
   "cell_type": "markdown",
   "metadata": {},
   "source": [
    "## Filtering and binarizing images\n",
    "\n",
    "* Here we binarize all images using different algorithms: Otsu, Yen, Li, ISODATA, triangle, MLSS.\n",
    "\n",
    "* We also perform some cleaning actions:\n",
    "    * `remove_small_objects()`, in its default settings, removes objects with an area smaller than `MIN_SIZE` pixels.\n",
    "    * `binary_fill_holes()` fills holes contained in objects.\n",
    "    * `clear_rd_border()` removes objects touching the lower and right borders. These objects could not be identified with precision.\n",
    "\n",
    "* After that, we present the results of these actions on the first images from the set."
   ]
  },
  {
   "cell_type": "code",
   "execution_count": 15,
   "metadata": {},
   "outputs": [],
   "source": [
    "def binarize_imageset(image_set):\n",
    "    \n",
    "    imgbin_otsu, imgbin_yen, imgbin_li, imgbin_iso = [[] for _ in range(4)]\n",
    "\n",
    "    for image in image_set:\n",
    "        # Filtering.\n",
    "        image = denoise_tv_chambolle(image, weight=WEIGHT_FILTER)\n",
    "        # Binarizing.\n",
    "        imgbin_otsu.append(_process_image(image, threshold='otsu'))  # Otsu\n",
    "        imgbin_yen.append(_process_image(image, threshold='yen'))  # Yen\n",
    "        imgbin_li.append(_process_image(image, threshold='li'))  # Li\n",
    "        imgbin_iso.append(_process_image(image, threshold='isodata'))  # ISODATA\n",
    "\n",
    "    return imgbin_otsu, imgbin_yen, imgbin_li, imgbin_iso\n",
    "\n",
    "\n",
    "def _process_image(image, threshold='isodata', weight=WEIGHT_FILTER, min_size=MIN_SIZE):\n",
    "    \"\"\"\n",
    "    \"\"\"\n",
    "\n",
    "    if threshold is not None:\n",
    "        func_thresh = {'otsu': threshold_otsu,\n",
    "                       'yen': threshold_yen,\n",
    "                       'li': threshold_li,\n",
    "                       'isodata': threshold_isodata,\n",
    "                       }.get(threshold, threshold_isodata)\n",
    "        thresh = func_thresh(image)\n",
    "        image = image < thresh\n",
    "\n",
    "    img_bin = ds.clear_rd_border(remove_small_objects(\n",
    "                                     binary_fill_holes(image),\n",
    "                                         min_size=min_size))\n",
    "\n",
    "    return img_bin"
   ]
  },
  {
   "cell_type": "markdown",
   "metadata": {},
   "source": [
    "* Binarizing images."
   ]
  },
  {
   "cell_type": "code",
   "execution_count": 16,
   "metadata": {},
   "outputs": [],
   "source": [
    "binotsu_mica, binyen_mica, binli_mica, biniso_mica = binarize_imageset(imgset_mica)\n",
    "binotsu_apte, binyen_apte, binli_apte, biniso_apte = binarize_imageset(imgset_apte)\n",
    "\n",
    "# reading and processing the binary MLSS images.\n",
    "binmlss_mica, binmlss_apte = [], []\n",
    "\n",
    "for fname in fnames_mica:\n",
    "    mlss_fname = 'auto_count/mlss/' + fname.split('/')[1][:-4] + '.csv'\n",
    "    binmlss_mica.append(_process_image(np.asarray(pd.read_csv(mlss_fname), dtype='bool'), threshold=None))\n",
    "\n",
    "for fname in fnames_apte:\n",
    "    mlss_fname = 'auto_count/mlss/' + fname.split('/')[1][:-4] + '.csv'\n",
    "    binmlss_apte.append(_process_image(np.asarray(pd.read_csv(mlss_fname), dtype='bool'), threshold=None))"
   ]
  },
  {
   "cell_type": "markdown",
   "metadata": {},
   "source": [
    "## Exemplifying the binarizations used\n",
    "\n",
    "* Here we present a sample binarized using the algorithms proposed. First, we use a muscovite image:"
   ]
  },
  {
   "cell_type": "code",
   "execution_count": 17,
   "metadata": {},
   "outputs": [
    {
     "data": {
      "text/plain": [
       "Text(0.5, 0, 'MLSS')"
      ]
     },
     "execution_count": 17,
     "metadata": {},
     "output_type": "execute_result"
    },
    {
     "data": {
      "image/png": "[encoded data removed]",
      "text/plain": [
       "<Figure size 1296x648 with 3 Axes>"
      ]
     },
     "metadata": {
      "needs_background": "light"
     },
     "output_type": "display_data"
    },
    {
     "data": {
      "image/png": "[encoded data removed]",
      "text/plain": [
       "<Figure size 1296x648 with 2 Axes>"
      ]
     },
     "metadata": {
      "needs_background": "light"
     },
     "output_type": "display_data"
    }
   ],
   "source": [
    "fig, ax = plt.subplots(figsize=(18, 9), nrows=1, ncols=3)\n",
    "\n",
    "SAMPLE = 4\n",
    "\n",
    "# Otsu\n",
    "ax[0].imshow(binotsu_mica[SAMPLE], cmap='gray')\n",
    "ax[0].set_xlabel('Otsu')\n",
    "\n",
    "# Yen\n",
    "ax[1].imshow(binyen_mica[SAMPLE], cmap='gray')\n",
    "ax[1].set_xlabel('Yen')\n",
    "\n",
    "# Li\n",
    "ax[2].imshow(binli_mica[SAMPLE], cmap='gray')\n",
    "ax[2].set_xlabel('Li')\n",
    "\n",
    "fig, ax = plt.subplots(figsize=(18, 9), nrows=1, ncols=2)\n",
    "\n",
    "# ISODATA\n",
    "ax[0].imshow(biniso_mica[SAMPLE], cmap='gray')\n",
    "ax[0].set_xlabel('ISODATA')\n",
    "\n",
    "# MLSS\n",
    "ax[1].imshow(binmlss_mica[SAMPLE], cmap='gray')\n",
    "ax[1].set_xlabel('MLSS')"
   ]
  },
  {
   "cell_type": "markdown",
   "metadata": {},
   "source": [
    "* Now, we show the results on an apatite image."
   ]
  },
  {
   "cell_type": "code",
   "execution_count": 21,
   "metadata": {},
   "outputs": [
    {
     "data": {
      "text/plain": [
       "Text(0.5, 0, 'MLSS')"
      ]
     },
     "execution_count": 21,
     "metadata": {},
     "output_type": "execute_result"
    },
    {
     "data": {
      "image/png": "[encoded data removed]",
      "text/plain": [
       "<Figure size 1296x648 with 3 Axes>"
      ]
     },
     "metadata": {
      "needs_background": "light"
     },
     "output_type": "display_data"
    },
    {
     "data": {
      "image/png": "[encoded data removed]",
      "text/plain": [
       "<Figure size 1296x648 with 2 Axes>"
      ]
     },
     "metadata": {
      "needs_background": "light"
     },
     "output_type": "display_data"
    }
   ],
   "source": [
    "fig, ax = plt.subplots(figsize=(18, 9), nrows=1, ncols=3)\n",
    "\n",
    "# Otsu\n",
    "ax[0].imshow(binotsu_apte[SAMPLE], cmap='gray')\n",
    "ax[0].set_xlabel('Otsu')\n",
    "\n",
    "# Yen\n",
    "ax[1].imshow(binyen_apte[SAMPLE], cmap='gray')\n",
    "ax[1].set_xlabel('Yen')\n",
    "\n",
    "# Li\n",
    "ax[2].imshow(binli_apte[SAMPLE], cmap='gray')\n",
    "ax[2].set_xlabel('Li')\n",
    "\n",
    "fig, ax = plt.subplots(figsize=(18, 9), nrows=1, ncols=2)\n",
    "\n",
    "# ISODATA\n",
    "ax[0].imshow(biniso_apte[SAMPLE], cmap='gray')\n",
    "ax[0].set_xlabel('ISODATA')\n",
    "\n",
    "# MLSS\n",
    "ax[1].imshow(binmlss_apte[SAMPLE], cmap='gray')\n",
    "ax[1].set_xlabel('MLSS')"
   ]
  },
  {
   "cell_type": "markdown",
   "metadata": {},
   "source": [
    "## Pre-processing images\n",
    "\n",
    "* Here we use the function `regions_and_skel()`, which separates the interest regions, skeletonizes them, and returns the results. First, the muscovite samples..."
   ]
  },
  {
   "cell_type": "code",
   "execution_count": 8,
   "metadata": {},
   "outputs": [
    {
     "name": "stderr",
     "output_type": "stream",
     "text": [
      "/home/jaguar/anaconda3/lib/python3.7/site-packages/skimage/util/arraycrop.py:177: FutureWarning: Using a non-tuple sequence for multidimensional indexing is deprecated; use `arr[tuple(seq)]` instead of `arr[seq]`. In the future this will be interpreted as an array index, `arr[np.array(seq)]`, which will result either in an error or a different result.\n",
      "  cropped = ar[slices]\n"
     ]
    }
   ],
   "source": [
    "regotsu_mica = ds.regions_and_skel(binotsu_mica)\n",
    "regyen_mica = ds.regions_and_skel(binyen_mica)\n",
    "regli_mica = ds.regions_and_skel(binli_mica)\n",
    "regiso_mica = ds.regions_and_skel(biniso_mica)\n",
    "regmlss_mica = ds.regions_and_skel(binmlss_mica)"
   ]
  },
  {
   "cell_type": "markdown",
   "metadata": {},
   "source": [
    "* ... and now, the apatite samples."
   ]
  },
  {
   "cell_type": "code",
   "execution_count": 9,
   "metadata": {},
   "outputs": [
    {
     "name": "stderr",
     "output_type": "stream",
     "text": [
      "/home/jaguar/anaconda3/lib/python3.7/site-packages/skimage/util/arraycrop.py:177: FutureWarning: Using a non-tuple sequence for multidimensional indexing is deprecated; use `arr[tuple(seq)]` instead of `arr[seq]`. In the future this will be interpreted as an array index, `arr[np.array(seq)]`, which will result either in an error or a different result.\n",
      "  cropped = ar[slices]\n"
     ]
    }
   ],
   "source": [
    "regotsu_apte = ds.regions_and_skel(binotsu_apte)\n",
    "regyen_apte = ds.regions_and_skel(binyen_apte)\n",
    "regli_apte = ds.regions_and_skel(binli_apte)\n",
    "regiso_apte = ds.regions_and_skel(biniso_apte)\n",
    "regmlss_apte = ds.regions_and_skel(binmlss_apte)"
   ]
  },
  {
   "cell_type": "markdown",
   "metadata": {},
   "source": [
    "## Automatic counting\n",
    "\n",
    "* Here we have functions for automatically classifying and counting tracks."
   ]
  },
  {
   "cell_type": "code",
   "execution_count": 10,
   "metadata": {},
   "outputs": [],
   "source": [
    "def autocount_tracks():\n",
    "    # Otsu\n",
    "    print('* counting tracks in Otsu binary images.')\n",
    "    ds.count_and_save(regotsu_mica,\n",
    "                      filename='auto_count/autootsu_mica.csv',\n",
    "                      show_exectime=False)\n",
    "    ds.count_and_save(regotsu_apte,\n",
    "                      filename='auto_count/autootsu_apatite.csv',\n",
    "                      show_exectime=False)\n",
    "\n",
    "    # Yen\n",
    "    print('* counting tracks in Yen binary images.')\n",
    "    ds.count_and_save(regyen_mica,\n",
    "                      filename='auto_count/autoyen_mica.csv',\n",
    "                      show_exectime=False)\n",
    "    ds.count_and_save(regyen_apte,\n",
    "                      filename='auto_count/autoyen_apatite.csv',\n",
    "                      show_exectime=False)\n",
    "\n",
    "    # Li\n",
    "    print('* counting tracks in Li binary images.')\n",
    "    ds.count_and_save(regli_mica,\n",
    "                      filename='auto_count/autoli_mica.csv',\n",
    "                      show_exectime=False)\n",
    "    ds.count_and_save(regli_apte,\n",
    "                      filename='auto_count/autoli_apatite.csv',\n",
    "                      show_exectime=False)\n",
    "\n",
    "    # ISODATA\n",
    "    print('* counting tracks in ISODATA binary images.')\n",
    "    ds.count_and_save(regiso_mica,\n",
    "                      filename='auto_count/autoiso_mica.csv',\n",
    "                      show_exectime=False)\n",
    "    ds.count_and_save(regiso_apte,\n",
    "                      filename='auto_count/autoiso_apatite.csv',\n",
    "                      show_exectime=False)\n",
    "\n",
    "    # MLSS\n",
    "    print('* counting tracks in MLSS binary images.')\n",
    "    ds.count_and_save(regmlss_mica,\n",
    "                      filename='auto_count/automlss_mica.csv',\n",
    "                      show_exectime=False)\n",
    "    ds.count_and_save(regmlss_apte,\n",
    "                      filename='auto_count/automlss_apatite.csv',\n",
    "                      show_exectime=False)\n",
    "\n",
    "    return None"
   ]
  },
  {
   "cell_type": "markdown",
   "metadata": {},
   "source": [
    "* Please uncomment (remove the `#` in) the line `autocount_tracks` below to generate the results. If you do not want to calculate them, they are already stored in the folder `auto_count`."
   ]
  },
  {
   "cell_type": "code",
   "execution_count": 11,
   "metadata": {},
   "outputs": [],
   "source": [
    "#autocount_tracks()"
   ]
  },
  {
   "cell_type": "markdown",
   "metadata": {},
   "source": [
    "* Now we read the automatic counting results. First, for muscovite..."
   ]
  },
  {
   "cell_type": "code",
   "execution_count": 4,
   "metadata": {},
   "outputs": [],
   "source": [
    "autootsu_mica = np.loadtxt('auto_count/autootsu_mica.csv', delimiter=',')\n",
    "autoyen_mica = np.loadtxt('auto_count/autoyen_mica.csv', delimiter=',')\n",
    "autoli_mica = np.loadtxt('auto_count/autoli_mica.csv', delimiter=',')\n",
    "autoiso_mica = np.loadtxt('auto_count/autoiso_mica.csv', delimiter=',')\n",
    "automlss_mica = np.loadtxt('auto_count/automlss_mica.csv', delimiter=',')"
   ]
  },
  {
   "cell_type": "markdown",
   "metadata": {},
   "source": [
    "* ... and now, for the apatite images."
   ]
  },
  {
   "cell_type": "code",
   "execution_count": 5,
   "metadata": {},
   "outputs": [],
   "source": [
    "autootsu_apte = np.loadtxt('auto_count/autootsu_apatite.csv', delimiter=',')\n",
    "autoyen_apte = np.loadtxt('auto_count/autoyen_apatite.csv', delimiter=',')\n",
    "autoli_apte = np.loadtxt('auto_count/autoli_apatite.csv', delimiter=',')\n",
    "autoiso_apte = np.loadtxt('auto_count/autoiso_apatite.csv', delimiter=',')\n",
    "automlss_apte = np.loadtxt('auto_count/automlss_apatite.csv', delimiter=',')"
   ]
  },
  {
   "cell_type": "markdown",
   "metadata": {},
   "source": [
    "## Manual counting\n",
    "\n",
    "* Here we read the manual counting results, obtained by W.M.N."
   ]
  },
  {
   "cell_type": "code",
   "execution_count": 6,
   "metadata": {},
   "outputs": [],
   "source": [
    "manual_mica = ds.manual_counting(mineral='mica')\n",
    "manual_apte = ds.manual_counting(mineral='apatite')"
   ]
  },
  {
   "cell_type": "code",
   "execution_count": null,
   "metadata": {},
   "outputs": [],
   "source": []
  },
  {
   "cell_type": "code",
   "execution_count": 15,
   "metadata": {},
   "outputs": [],
   "source": [
    "def ratio_manauto(manual, auto):\n",
    "    \"\"\"\n",
    "    \"\"\"\n",
    "\n",
    "    ratio = np.asarray(auto) / np.asarray(manual)\n",
    "\n",
    "    print('\\n* Manual mean: ', str(manual.mean()), ' +/- ', str(manual.std()),\n",
    "          '\\n* Auto mean: ', str(auto.mean()), ' +/- ', str(auto.std()),\n",
    "          '\\n* Ratio mean: ', str(ratio.mean()), ' +/- ', str(ratio.std()))\n",
    "\n",
    "    return None\n"
   ]
  },
  {
   "cell_type": "code",
   "execution_count": 16,
   "metadata": {},
   "outputs": [
    {
     "name": "stdout",
     "output_type": "stream",
     "text": [
      "* Otsu:\n",
      "\n",
      "* Manual mean:  57.91836734693877  +/-  8.358880734306618 \n",
      "* Auto mean:  51.57142857142857  +/-  6.743099269260541 \n",
      "* Ratio mean:  0.895310830228164  +/-  0.0770651298446779\n",
      "\n",
      "* Manual mean:  103.8  +/-  11.914696806885184 \n",
      "* Auto mean:  97.63333333333334  +/-  9.403840822888393 \n",
      "* Ratio mean:  0.9449396897798772  +/-  0.06892487895953622\n"
     ]
    }
   ],
   "source": [
    "print('* Otsu:')\n",
    "ratio_manauto(np.asarray(manual_mica), np.asarray(autootsu_mica))\n",
    "ratio_manauto(np.asarray(manual_apte), np.asarray(autootsu_apte))"
   ]
  },
  {
   "cell_type": "code",
   "execution_count": 17,
   "metadata": {},
   "outputs": [
    {
     "data": {
      "text/plain": [
       "0.766281626459385"
      ]
     },
     "execution_count": 17,
     "metadata": {},
     "output_type": "execute_result"
    }
   ],
   "source": [
    "np.mean(automlss_mica)/np.mean(automlss_apte)"
   ]
  },
  {
   "cell_type": "code",
   "execution_count": 18,
   "metadata": {},
   "outputs": [
    {
     "name": "stdout",
     "output_type": "stream",
     "text": [
      "* Yen:\n",
      "\n",
      "* Manual mean:  57.91836734693877  +/-  8.358880734306618 \n",
      "* Auto mean:  56.06122448979592  +/-  7.296653309636748 \n",
      "* Ratio mean:  0.9727549363231983  +/-  0.07528057530256266\n",
      "\n",
      "* Manual mean:  103.8  +/-  11.914696806885184 \n",
      "* Auto mean:  102.56666666666666  +/-  9.496256572402038 \n",
      "* Ratio mean:  0.9931724877812854  +/-  0.07508684032415679\n"
     ]
    }
   ],
   "source": [
    "print('* Yen:')\n",
    "ratio_manauto(np.asarray(manual_mica), np.asarray(autoyen_mica))\n",
    "ratio_manauto(np.asarray(manual_apte), np.asarray(autoyen_apte))"
   ]
  },
  {
   "cell_type": "code",
   "execution_count": 19,
   "metadata": {
    "scrolled": false
   },
   "outputs": [
    {
     "name": "stdout",
     "output_type": "stream",
     "text": [
      "* Li:\n",
      "\n",
      "* Manual mean:  57.91836734693877  +/-  8.358880734306618 \n",
      "* Auto mean:  51.04081632653061  +/-  6.779197423069927 \n",
      "* Ratio mean:  0.8847294471639352  +/-  0.06321877927917537\n",
      "\n",
      "* Manual mean:  103.8  +/-  11.914696806885184 \n",
      "* Auto mean:  93.06666666666666  +/-  16.28073162429202 \n",
      "* Ratio mean:  0.8993404946068109  +/-  0.13417009004759695\n"
     ]
    }
   ],
   "source": [
    "print('* Li:')\n",
    "ratio_manauto(np.asarray(manual_mica), np.asarray(autoli_mica))\n",
    "ratio_manauto(np.asarray(manual_apte), np.asarray(autoli_apte))"
   ]
  },
  {
   "cell_type": "code",
   "execution_count": 20,
   "metadata": {},
   "outputs": [
    {
     "name": "stdout",
     "output_type": "stream",
     "text": [
      "* ISODATA:\n",
      "\n",
      "* Manual mean:  57.91836734693877  +/-  8.358880734306618 \n",
      "* Auto mean:  51.69387755102041  +/-  6.794968371426001 \n",
      "* Ratio mean:  0.8972577042158544  +/-  0.07632481251306575\n",
      "\n",
      "* Manual mean:  103.8  +/-  11.914696806885184 \n",
      "* Auto mean:  97.73333333333333  +/-  9.6122606891176 \n",
      "* Ratio mean:  0.9458803944910739  +/-  0.07100298508464394\n"
     ]
    }
   ],
   "source": [
    "print('* ISODATA:')\n",
    "ratio_manauto(np.asarray(manual_mica), np.asarray(autoiso_mica))\n",
    "ratio_manauto(np.asarray(manual_apte), np.asarray(autoiso_apte))"
   ]
  },
  {
   "cell_type": "code",
   "execution_count": 21,
   "metadata": {},
   "outputs": [
    {
     "name": "stdout",
     "output_type": "stream",
     "text": [
      "* MLSS:\n",
      "\n",
      "* Manual mean:  57.91836734693877  +/-  8.358880734306618 \n",
      "* Auto mean:  84.16326530612245  +/-  12.917867611316126 \n",
      "* Ratio mean:  1.4857286695005545  +/-  0.32038489517644325\n",
      "\n",
      "* Manual mean:  103.8  +/-  11.914696806885184 \n",
      "* Auto mean:  109.83333333333333  +/-  10.82307206336948 \n",
      "* Ratio mean:  1.069987415663724  +/-  0.1472787849816943\n"
     ]
    }
   ],
   "source": [
    "print('* MLSS:')\n",
    "ratio_manauto(np.asarray(manual_mica), np.asarray(automlss_mica))\n",
    "ratio_manauto(np.asarray(manual_apte), np.asarray(automlss_apte))"
   ]
  },
  {
   "cell_type": "code",
   "execution_count": 22,
   "metadata": {},
   "outputs": [],
   "source": [
    "def plot_tracks(image, trk_averages, trk_points):\n",
    "    '''\n",
    "    '''\n",
    "\n",
    "    if trk_averages is None:\n",
    "        print('No averages (possibly only one track).')\n",
    "        return None\n",
    "\n",
    "    image_rgb = gray2rgb(image)\n",
    "\n",
    "    # preparing the plot window.\n",
    "    fig, ax = plt.subplots(nrows=1, ncols=1)\n",
    "\n",
    "    for trk_idx, trk_pt in enumerate(trk_points):\n",
    "\n",
    "        # calculating route and distances.\n",
    "        route, _ = route_through_array(~image, trk_pt[0], trk_pt[1])\n",
    "        distances, _, _ = ds.track_parameters(trk_pt[0], trk_pt[1], route)\n",
    "\n",
    "        # generating minimal distance line.\n",
    "        rows, cols = line(trk_pt[0][0], trk_pt[0][1],\n",
    "                          trk_pt[1][0], trk_pt[1][1])\n",
    "        image_rgb[rows, cols] = [0, 255, 0]\n",
    "\n",
    "        # plotting minimal distance and route.\n",
    "        ax.imshow(image_rgb, cmap='gray')\n",
    "\n",
    "        for rt_pt in route:\n",
    "            ax.scatter(rt_pt[1], rt_pt[0], c='b')\n",
    "\n",
    "        #plotting extreme points.\n",
    "        for pt in trk_pt:\n",
    "            ax.scatter(pt[1], pt[0], c='g')\n",
    "\n",
    "    return None"
   ]
  },
  {
   "cell_type": "markdown",
   "metadata": {},
   "source": [
    "## Calibration and conversion: from $px$ to $cm^2$"
   ]
  },
  {
   "cell_type": "code",
   "execution_count": null,
   "metadata": {},
   "outputs": [],
   "source": [
    "poly_coef = ds.calibration()\n",
    "\n",
    "fit = np.arange(0, 760)\n",
    "fit_mm = poly_coef[0] * fit + poly_coef[1]\n",
    "\n",
    "fig, ax = plt.subplots(figsize=(15, 10))\n",
    "ax.scatter(x=calib['px'],\n",
    "           y=calib['mm'],\n",
    "           c='k')\n",
    "ax.plot(fit, fit_mm, c='m')\n",
    "ax.set_xlabel('Length (px)')\n",
    "ax.set_ylabel('Length (mm)')"
   ]
  },
  {
   "cell_type": "code",
   "execution_count": null,
   "metadata": {},
   "outputs": [],
   "source": [
    "def px_to_mm(poly_coef, length=760):\n",
    "\n",
    "    ang_coef, lin_coef = poly_coef\n",
    "    mm = length*ang_coef + lin_coef\n",
    "\n",
    "    return mm"
   ]
  },
  {
   "cell_type": "code",
   "execution_count": null,
   "metadata": {},
   "outputs": [],
   "source": [
    "px_to_mm(poly_coef, length=4.2) * 1e3"
   ]
  },
  {
   "cell_type": "code",
   "execution_count": null,
   "metadata": {},
   "outputs": [],
   "source": [
    "ds.px_to_cm2(poly_coef)"
   ]
  },
  {
   "cell_type": "code",
   "execution_count": null,
   "metadata": {},
   "outputs": [],
   "source": [
    "def gqr_calc(mica, apatite):\n",
    "    \"\"\"\n",
    "    \"\"\"\n",
    "\n",
    "    gqr = np.mean(mica/px_to_cm2()) / np.mean(apatite/px_to_cm2())\n",
    "\n",
    "    return gqr\n",
    "\n",
    "\n",
    "def track_stats(ext_detec, int_surf):\n",
    "    \"\"\"\n",
    "    \"\"\"\n",
    "\n",
    "    # ed: external detector\n",
    "    rho_ed = np.mean(ext_detec) / px_to_cm2()\n",
    "    n_ed = np.sum(ext_detec)\n",
    "\n",
    "    sigma_n_ed = np.sqrt(n_ed)\n",
    "    relat_ed = 1/np.sqrt(n_ed)  # incerteza relativa\n",
    "    sigma_rho_ed = relat_ed * rho_ed\n",
    "\n",
    "    # is: internal surface\n",
    "    rho_is = np.mean(int_surf) / px_to_cm2()\n",
    "    n_is = np.sum(int_surf)\n",
    "\n",
    "    sigma_n_is = np.sqrt(n_is)\n",
    "    relat_is = 1/np.sqrt(n_is)  # incerteza relativa\n",
    "    sigma_rho_is = relat_is * rho_is\n",
    "\n",
    "    # GQR\n",
    "    gqr = rho_ed / rho_is\n",
    "    sigma_gqr = np.sqrt((relat_is ** 2) + (relat_ed ** 2)) * gqr\n",
    "\n",
    "    stats = ((n_ed, sigma_n_ed), (n_is, sigma_n_is),\n",
    "             (rho_ed * 1e-6, sigma_rho_ed * 1e-6),\n",
    "             (rho_is * 1e-6, sigma_rho_is * 1e-6),\n",
    "             (gqr, sigma_gqr))\n",
    "\n",
    "    return stats"
   ]
  },
  {
   "cell_type": "markdown",
   "metadata": {},
   "source": [
    "## Obtaining track stats for each counting."
   ]
  },
  {
   "cell_type": "code",
   "execution_count": 7,
   "metadata": {},
   "outputs": [],
   "source": [
    "otsu_stats = ds.TrackStats(autootsu_mica, autootsu_apte)\n",
    "yen_stats = ds.TrackStats(autoyen_mica, autoyen_apte)\n",
    "li_stats = ds.TrackStats(autoli_mica, autoli_apte)\n",
    "iso_stats = ds.TrackStats(autoiso_mica, autoiso_apte)\n",
    "mlss_stats = ds.TrackStats(automlss_mica, automlss_apte)\n",
    "manual_stats = ds.TrackStats(manual_mica, manual_apte)"
   ]
  },
  {
   "cell_type": "code",
   "execution_count": 8,
   "metadata": {},
   "outputs": [
    {
     "data": {
      "text/plain": [
       "(0.5282153831146661, 0.01434121408405648)"
      ]
     },
     "execution_count": 8,
     "metadata": {},
     "output_type": "execute_result"
    }
   ],
   "source": [
    "otsu_stats.gqr"
   ]
  },
  {
   "cell_type": "code",
   "execution_count": 9,
   "metadata": {},
   "outputs": [
    {
     "data": {
      "text/plain": [
       "(0.5465832741936554, 0.014347424339176483)"
      ]
     },
     "execution_count": 9,
     "metadata": {},
     "output_type": "execute_result"
    }
   ],
   "source": [
    "yen_stats.gqr"
   ]
  },
  {
   "cell_type": "code",
   "execution_count": 10,
   "metadata": {},
   "outputs": [
    {
     "data": {
      "text/plain": [
       "(0.5289278057744243, 0.014348017700564217)"
      ]
     },
     "execution_count": 10,
     "metadata": {},
     "output_type": "execute_result"
    }
   ],
   "source": [
    "iso_stats.gqr"
   ]
  },
  {
   "cell_type": "code",
   "execution_count": 11,
   "metadata": {},
   "outputs": [
    {
     "data": {
      "text/plain": [
       "(0.5484328401847844, 0.015099405437989393)"
      ]
     },
     "execution_count": 11,
     "metadata": {},
     "output_type": "execute_result"
    }
   ],
   "source": [
    "li_stats.gqr"
   ]
  },
  {
   "cell_type": "code",
   "execution_count": 12,
   "metadata": {},
   "outputs": [
    {
     "data": {
      "text/plain": [
       "(0.766281626459385, 0.017904989066163734)"
      ]
     },
     "execution_count": 12,
     "metadata": {},
     "output_type": "execute_result"
    }
   ],
   "source": [
    "mlss_stats.gqr"
   ]
  },
  {
   "cell_type": "code",
   "execution_count": 13,
   "metadata": {},
   "outputs": [
    {
     "data": {
      "text/plain": [
       "(0.5579804176005663, 0.0144805453864624)"
      ]
     },
     "execution_count": 13,
     "metadata": {},
     "output_type": "execute_result"
    }
   ],
   "source": [
    "manual_stats.gqr"
   ]
  },
  {
   "cell_type": "code",
   "execution_count": 43,
   "metadata": {},
   "outputs": [
    {
     "name": "stdout",
     "output_type": "stream",
     "text": [
      "2527.0 [51.57142857  1.02590357] (0.5282153831146661, 0.01434121408405648)\n"
     ]
    }
   ],
   "source": [
    "print(otsu_stats.ext_dec.sum(),\n",
    "      np.asarray(track_stats.n_extdec)/len(track_stats.ext_dec),\n",
    "      otsu_stats.gqr)"
   ]
  },
  {
   "cell_type": "markdown",
   "metadata": {},
   "source": [
    "## Counting time of each algorithm"
   ]
  },
  {
   "cell_type": "code",
   "execution_count": null,
   "metadata": {},
   "outputs": [],
   "source": [
    "count_time = pd.read_csv('counting_time.csv')\n",
    "\n",
    "count_auto = [count_time[count_time['sample'] == 'mica']['otsu'],\n",
    "              count_time[count_time['sample'] == 'mica']['yen'],\n",
    "              count_time[count_time['sample'] == 'mica']['li'],\n",
    "              count_time[count_time['sample'] == 'mica']['isodata'],\n",
    "              count_time[count_time['sample'] == 'mica']['mlss']]"
   ]
  },
  {
   "cell_type": "code",
   "execution_count": null,
   "metadata": {},
   "outputs": [],
   "source": []
  },
  {
   "cell_type": "code",
   "execution_count": null,
   "metadata": {},
   "outputs": [],
   "source": [
    "\n",
    "\n",
    "    \n",
    "for trk_idx, trk_pt in enumerate(trk_px):\n",
    "\n",
    "    # calculating route and distances.\n",
    "    route, _ = route_through_array(~img_aux, trk_pt[0], trk_pt[1])\n",
    "    distances, _, _ = ds.track_parameters(trk_pt[0], trk_pt[1], route)\n",
    "\n",
    "    # generating minimal distance line.\n",
    "    rows, cols = line(trk_pt[0][0], trk_pt[0][1],\n",
    "                      trk_pt[1][0], trk_pt[1][1])\n",
    "    rgb_otsu[rows, cols] = [0, 255, 0]\n",
    "\n",
    "    # plotting minimal distance and route.\n",
    "    ax[1].imshow(rgb_otsu, cmap='gray')\n",
    "\n",
    "    for rt_pt in route:\n",
    "        ax[1].scatter(rt_pt[1], rt_pt[0], c='b')\n",
    "\n",
    "    #plotting extreme points.\n",
    "    for pt in trk_pt:\n",
    "        ax[1].scatter(pt[1], pt[0], c='g')\n",
    "\n",
    "ax[1].yaxis.set_visible(False)\n",
    "ax[1].set_xlabel('Otsu')\n",
    "\n",
    "ax[2].imshow(imgbin_yen[0][x_min:x_max, y_min:y_max], cmap='gray')\n",
    "ax[2].yaxis.set_visible(False)\n",
    "ax[2].set_xlabel('Yen')\n",
    "\n",
    "ax[3].imshow(imgbin_li[0][x_min:x_max, y_min:y_max], cmap='gray')\n",
    "ax[3].yaxis.set_visible(False)\n",
    "ax[3].set_xlabel('Li')\n",
    "\n",
    "ax[4].imshow(imgbin_isodata[0][x_min:x_max, y_min:y_max], cmap='gray')\n",
    "ax[4].yaxis.set_visible(False)\n",
    "ax[4].set_xlabel('ISODATA')\n",
    "\n",
    "ax[5].imshow(imgbin_triangle[0][x_min:x_max, y_min:y_max], cmap='gray')\n",
    "ax[5].yaxis.set_visible(False)\n",
    "ax[5].set_xlabel('Triangle')\n",
    "\n",
    "ax[6].imshow(imgbin_mlss[0][x_min:x_max, y_min:y_max], cmap='gray')\n",
    "ax[6].yaxis.set_visible(False)\n",
    "ax[6].set_xlabel('MLSS')"
   ]
  },
  {
   "cell_type": "code",
   "execution_count": null,
   "metadata": {},
   "outputs": [],
   "source": [
    "props = regionprops(label(imgbin_mlss[0]))\n",
    "x_min, y_min, x_max, y_max = props[10].bbox\n",
    "\n",
    "fig, ax = plt.subplots(nrows=1, ncols=7, figsize=(24, 6))\n",
    "\n",
    "ax[0].imshow(image_set[0][x_min:x_max, y_min:y_max], cmap='gray')\n",
    "ax[0].set_xlabel('Original')\n",
    "\n",
    "ax[1].imshow(imgbin_otsu[0][x_min:x_max, y_min:y_max], cmap='gray')\n",
    "ax[1].yaxis.set_visible(False)\n",
    "ax[1].set_xlabel('Otsu')\n",
    "\n",
    "ax[2].imshow(imgbin_yen[0][x_min:x_max, y_min:y_max], cmap='gray')\n",
    "ax[2].yaxis.set_visible(False)\n",
    "ax[2].set_xlabel('Yen')\n",
    "\n",
    "ax[3].imshow(imgbin_li[0][x_min:x_max, y_min:y_max], cmap='gray')\n",
    "ax[3].yaxis.set_visible(False)\n",
    "ax[3].set_xlabel('Li')\n",
    "\n",
    "ax[4].imshow(imgbin_isodata[0][x_min:x_max, y_min:y_max], cmap='gray')\n",
    "ax[4].yaxis.set_visible(False)\n",
    "ax[4].set_xlabel('ISODATA')\n",
    "\n",
    "ax[5].imshow(imgbin_triangle[0][x_min:x_max, y_min:y_max], cmap='gray')\n",
    "ax[5].yaxis.set_visible(False)\n",
    "ax[5].set_xlabel('Triangle')\n",
    "\n",
    "ax[6].imshow(imgbin_mlss[0][x_min:x_max, y_min:y_max], cmap='gray')\n",
    "ax[6].yaxis.set_visible(False)\n",
    "ax[6].set_xlabel('MLSS')"
   ]
  },
  {
   "cell_type": "code",
   "execution_count": null,
   "metadata": {},
   "outputs": [],
   "source": [
    "props = regionprops(label(imgbin_mlss[0]))\n",
    "x_min, y_min, x_max, y_max = props[15].bbox\n",
    "\n",
    "fig, ax = plt.subplots(nrows=1, ncols=7, figsize=(24, 6))\n",
    "\n",
    "ax[0].imshow(image_set[0][x_min:x_max, y_min:y_max], cmap='gray')\n",
    "ax[0].set_xlabel('Original')\n",
    "\n",
    "ax[1].imshow(imgbin_otsu[0][x_min:x_max, y_min:y_max], cmap='gray')\n",
    "ax[1].yaxis.set_visible(False)\n",
    "ax[1].set_xlabel('Otsu')\n",
    "\n",
    "ax[2].imshow(imgbin_yen[0][x_min:x_max, y_min:y_max], cmap='gray')\n",
    "ax[2].yaxis.set_visible(False)\n",
    "ax[2].set_xlabel('Yen')\n",
    "\n",
    "ax[3].imshow(imgbin_li[0][x_min:x_max, y_min:y_max], cmap='gray')\n",
    "ax[3].yaxis.set_visible(False)\n",
    "ax[3].set_xlabel('Li')\n",
    "\n",
    "ax[4].imshow(imgbin_isodata[0][x_min:x_max, y_min:y_max], cmap='gray')\n",
    "ax[4].yaxis.set_visible(False)\n",
    "ax[4].set_xlabel('ISODATA')\n",
    "\n",
    "ax[5].imshow(imgbin_triangle[0][x_min:x_max, y_min:y_max], cmap='gray')\n",
    "ax[5].yaxis.set_visible(False)\n",
    "ax[5].set_xlabel('Triangle')\n",
    "\n",
    "ax[6].imshow(imgbin_mlss[0][x_min:x_max, y_min:y_max], cmap='gray')\n",
    "ax[6].yaxis.set_visible(False)\n",
    "ax[6].set_xlabel('MLSS')"
   ]
  },
  {
   "cell_type": "code",
   "execution_count": null,
   "metadata": {},
   "outputs": [],
   "source": [
    "props = regionprops(label(imgbin_mlss[0]))\n",
    "x_min, y_min, x_max, y_max = props[17].bbox\n",
    "\n",
    "fig, ax = plt.subplots(nrows=1, ncols=7, figsize=(24, 6))\n",
    "\n",
    "ax[0].imshow(image_set[0][x_min:x_max, y_min:y_max], cmap='gray')\n",
    "ax[0].set_xlabel('Original')\n",
    "\n",
    "ax[1].imshow(imgbin_otsu[0][x_min:x_max, y_min:y_max], cmap='gray')\n",
    "ax[1].yaxis.set_visible(False)\n",
    "ax[1].set_xlabel('Otsu')\n",
    "\n",
    "ax[2].imshow(imgbin_yen[0][x_min:x_max, y_min:y_max], cmap='gray')\n",
    "ax[2].yaxis.set_visible(False)\n",
    "ax[2].set_xlabel('Yen')\n",
    "\n",
    "ax[3].imshow(imgbin_li[0][x_min:x_max, y_min:y_max], cmap='gray')\n",
    "ax[3].yaxis.set_visible(False)\n",
    "ax[3].set_xlabel('Li')\n",
    "\n",
    "ax[4].imshow(imgbin_isodata[0][x_min:x_max, y_min:y_max], cmap='gray')\n",
    "ax[4].yaxis.set_visible(False)\n",
    "ax[4].set_xlabel('ISODATA')\n",
    "\n",
    "ax[5].imshow(imgbin_triangle[0][x_min:x_max, y_min:y_max], cmap='gray')\n",
    "ax[5].yaxis.set_visible(False)\n",
    "ax[5].set_xlabel('Triangle')\n",
    "\n",
    "ax[6].imshow(imgbin_mlss[0][x_min:x_max, y_min:y_max], cmap='gray')\n",
    "ax[6].yaxis.set_visible(False)\n",
    "ax[6].set_xlabel('MLSS')"
   ]
  },
  {
   "cell_type": "code",
   "execution_count": null,
   "metadata": {},
   "outputs": [],
   "source": [
    "props = regionprops(label(imgbin_mlss[0]))\n",
    "x_min, y_min, x_max, y_max = props[25].bbox\n",
    "\n",
    "fig, ax = plt.subplots(nrows=1, ncols=7, figsize=(24, 6))\n",
    "\n",
    "ax[0].imshow(image_set[0][x_min:x_max, y_min:y_max], cmap='gray')\n",
    "ax[0].set_xlabel('Original')\n",
    "\n",
    "ax[1].imshow(imgbin_otsu[0][x_min:x_max, y_min:y_max], cmap='gray')\n",
    "ax[1].yaxis.set_visible(False)\n",
    "ax[1].set_xlabel('Otsu')\n",
    "\n",
    "ax[2].imshow(imgbin_yen[0][x_min:x_max, y_min:y_max], cmap='gray')\n",
    "ax[2].yaxis.set_visible(False)\n",
    "ax[2].set_xlabel('Yen')\n",
    "\n",
    "ax[3].imshow(imgbin_li[0][x_min:x_max, y_min:y_max], cmap='gray')\n",
    "ax[3].yaxis.set_visible(False)\n",
    "ax[3].set_xlabel('Li')\n",
    "\n",
    "ax[4].imshow(imgbin_isodata[0][x_min:x_max, y_min:y_max], cmap='gray')\n",
    "ax[4].yaxis.set_visible(False)\n",
    "ax[4].set_xlabel('ISODATA')\n",
    "\n",
    "ax[5].imshow(imgbin_triangle[0][x_min:x_max, y_min:y_max], cmap='gray')\n",
    "ax[5].yaxis.set_visible(False)\n",
    "ax[5].set_xlabel('Triangle')\n",
    "\n",
    "ax[6].imshow(imgbin_mlss[0][x_min:x_max, y_min:y_max], cmap='gray')\n",
    "ax[6].yaxis.set_visible(False)\n",
    "ax[6].set_xlabel('MLSS')"
   ]
  },
  {
   "cell_type": "code",
   "execution_count": null,
   "metadata": {
    "scrolled": false
   },
   "outputs": [],
   "source": [
    "props = regionprops(label(imgbin_mlss[0]))\n",
    "\n",
    "for i in range(50, 75):\n",
    "    x_min, y_min, x_max, y_max = props[i].bbox\n",
    "\n",
    "    fig, ax = plt.subplots(nrows=1, ncols=7, figsize=(24, 6))\n",
    "\n",
    "    ax[0].imshow(image_set[0][x_min:x_max, y_min:y_max], cmap='gray')\n",
    "    ax[0].set_xlabel('Original')\n",
    "\n",
    "    ax[1].imshow(imgbin_otsu[0][x_min:x_max, y_min:y_max], cmap='gray')\n",
    "    ax[1].yaxis.set_visible(False)\n",
    "    ax[1].set_xlabel('Otsu')\n",
    "\n",
    "    ax[2].imshow(imgbin_yen[0][x_min:x_max, y_min:y_max], cmap='gray')\n",
    "    ax[2].yaxis.set_visible(False)\n",
    "    ax[2].set_xlabel('Yen')\n",
    "\n",
    "    ax[3].imshow(imgbin_li[0][x_min:x_max, y_min:y_max], cmap='gray')\n",
    "    ax[3].yaxis.set_visible(False)\n",
    "    ax[3].set_xlabel('Li')\n",
    "\n",
    "    ax[4].imshow(imgbin_isodata[0][x_min:x_max, y_min:y_max], cmap='gray')\n",
    "    ax[4].yaxis.set_visible(False)\n",
    "    ax[4].set_xlabel('ISODATA')\n",
    "\n",
    "    ax[5].imshow(imgbin_triangle[0][x_min:x_max, y_min:y_max], cmap='gray')\n",
    "    ax[5].yaxis.set_visible(False)\n",
    "    ax[5].set_xlabel('Triangle')\n",
    "\n",
    "    ax[6].imshow(imgbin_mlss[0][x_min:x_max, y_min:y_max], cmap='gray')\n",
    "    ax[6].yaxis.set_visible(False)\n",
    "    ax[6].set_xlabel('MLSS')"
   ]
  },
  {
   "cell_type": "code",
   "execution_count": null,
   "metadata": {},
   "outputs": [],
   "source": [
    "props = regionprops(label(imgbin_mlss[0]))\n",
    "\n",
    "for i in [15, 10, 25, 72, 1, 17, 68, 55]:\n",
    "    x_min, y_min, x_max, y_max = props[i].bbox\n",
    "\n",
    "    fig, ax = plt.subplots(nrows=1, ncols=7, figsize=(24, 6))\n",
    "\n",
    "    ax[0].imshow(image_set[0][x_min:x_max, y_min:y_max], cmap='gray')\n",
    "    ax[0].set_xlabel('Original')\n",
    "\n",
    "    ax[1].imshow(imgbin_otsu[0][x_min:x_max, y_min:y_max], cmap='gray')\n",
    "    ax[1].yaxis.set_visible(False)\n",
    "    ax[1].set_xlabel('Otsu')\n",
    "\n",
    "    ax[2].imshow(imgbin_yen[0][x_min:x_max, y_min:y_max], cmap='gray')\n",
    "    ax[2].yaxis.set_visible(False)\n",
    "    ax[2].set_xlabel('Yen')\n",
    "\n",
    "    ax[3].imshow(imgbin_li[0][x_min:x_max, y_min:y_max], cmap='gray')\n",
    "    ax[3].yaxis.set_visible(False)\n",
    "    ax[3].set_xlabel('Li')\n",
    "\n",
    "    ax[4].imshow(imgbin_isodata[0][x_min:x_max, y_min:y_max], cmap='gray')\n",
    "    ax[4].yaxis.set_visible(False)\n",
    "    ax[4].set_xlabel('ISODATA')\n",
    "\n",
    "    ax[5].imshow(imgbin_triangle[0][x_min:x_max, y_min:y_max], cmap='gray')\n",
    "    ax[5].yaxis.set_visible(False)\n",
    "    ax[5].set_xlabel('Triangle')\n",
    "\n",
    "    ax[6].imshow(imgbin_mlss[0][x_min:x_max, y_min:y_max], cmap='gray')\n",
    "    ax[6].yaxis.set_visible(False)\n",
    "    ax[6].set_xlabel('MLSS')"
   ]
  },
  {
   "cell_type": "code",
   "execution_count": null,
   "metadata": {},
   "outputs": [],
   "source": []
  },
  {
   "cell_type": "code",
   "execution_count": null,
   "metadata": {},
   "outputs": [],
   "source": []
  },
  {
   "cell_type": "code",
   "execution_count": 31,
   "metadata": {},
   "outputs": [
    {
     "name": "stdout",
     "output_type": "stream",
     "text": [
      "Otsu variance:  0.0008187499999999994\n",
      "Yen variance:  0.0012500000000000022\n",
      "Li variance:  0.0010249999999999994\n",
      "ISODATA variance:  0.0007499999999999991\n",
      "Triangle variance:  0.0012500000000000022\n",
      "MLSS variance:  0.00031875000000000056\n"
     ]
    }
   ],
   "source": [
    "import numpy as np\n",
    "\n",
    "\n",
    "print('Otsu variance: ', np.var([0.68, 0.70, 0.75, 0.74]))\n",
    "\n",
    "print('Yen variance: ', np.var([0.7, 0.69, 0.78, 0.71]))\n",
    "\n",
    "print('Li variance: ', np.var([0.68, 0.71, 0.75, 0.76]))\n",
    "\n",
    "print('ISODATA variance: ', np.var([0.68, 0.71, 0.75, 0.74]))\n",
    "\n",
    "print('Triangle variance: ', np.var([0.71, 0.72, 0.8, 0.73]))\n",
    "\n",
    "print('MLSS variance: ', np.var([0.74, 0.78, 0.77, 0.74]))"
   ]
  },
  {
   "cell_type": "code",
   "execution_count": null,
   "metadata": {},
   "outputs": [],
   "source": []
  },
  {
   "cell_type": "code",
   "execution_count": null,
   "metadata": {
    "scrolled": false
   },
   "outputs": [],
   "source": [
    "image = imread('orig_figures/sample1_01.jpg', as_grey=True)\n",
    "\n",
    "thresh = threshold_otsu(image)\n",
    "imgbin_otsu = binary_fill_holes(\n",
    "    remove_small_objects(image < thresh))\n",
    "\n",
    "props = regionprops(label(imgbin_otsu))\n",
    "\n",
    "img_skel = skeletonize_3d(imgbin_otsu)\n",
    "rows, cols = np.where(img_skel != 0)\n",
    "img_rgb = gray2rgb(img_as_ubyte(image))\n",
    "img_rgb[rows, cols] = [255, 0, 255]\n",
    "\n",
    "fig, ax = plt.subplots(figsize=(15, 10))\n",
    "\n",
    "for prop in props:\n",
    "    obj_info = []\n",
    "    aux = skeletonize_3d(prop.image)\n",
    "    trk_area, trk_px = ds.tracks_classify(aux)\n",
    "    count_auto = ds.count_by_region(ds.regions_and_skel(prop.image))\n",
    "    \n",
    "    x_min, y_min, x_max, y_max = prop.bbox\n",
    "    obj_info.append([prop.centroid[0],\n",
    "                     prop.centroid[1],\n",
    "                     str(count_auto[2][0][0])])\n",
    "    for obj in obj_info:\n",
    "        ax.text(obj[1], obj[0], obj[2], family='monospace', color='yellow', size='x-large', weight='bold')\n",
    "\n",
    "    if trk_area is not None:\n",
    "\n",
    "        for px in trk_px:\n",
    "            route, _ = route_through_array(~aux, px[0], px[1])\n",
    "\n",
    "            for rx in route:\n",
    "                plt.scatter(y_min+rx[1], x_min+rx[0], s=20, c='b')\n",
    "\n",
    "            for p in px:\n",
    "                plt.scatter(y_min+p[1], x_min+p[0], s=20, c='g')\n",
    "\n",
    "            rows, cols = line(x_min+px[0][0], y_min+px[0][1],\n",
    "                              x_min+px[1][0], y_min+px[1][1])\n",
    "            img_rgb[rows, cols] = [0, 255, 0]\n",
    "\n",
    "plt.imshow(img_rgb, cmap='gray')"
   ]
  },
  {
   "cell_type": "code",
   "execution_count": null,
   "metadata": {},
   "outputs": [],
   "source": []
  },
  {
   "cell_type": "markdown",
   "metadata": {},
   "source": [
    "## Notes"
   ]
  },
  {
   "cell_type": "markdown",
   "metadata": {},
   "source": [
    "### Saving counted images.\n",
    "\n",
    "* The following code saves annotated results for each image, according to the binarization algorithms."
   ]
  },
  {
   "cell_type": "markdown",
   "metadata": {},
   "source": [
    "#### Otsu"
   ]
  },
  {
   "cell_type": "code",
   "execution_count": null,
   "metadata": {},
   "outputs": [],
   "source": [
    "for idx, image in enumerate(image_set):\n",
    "    fig, ax = plt.subplots(figsize=(15, 10))\n",
    "    ax, count = ds.plot_and_count(imgbin_otsu[idx], intensity_image=image)\n",
    "    filename = 'res_figures/otsu/image' + str(idx+1) + '_otsu.eps'\n",
    "    plt.savefig(filename, bbox_inches='tight')\n",
    "    plt.clf()"
   ]
  },
  {
   "cell_type": "markdown",
   "metadata": {},
   "source": [
    "#### Yen"
   ]
  },
  {
   "cell_type": "code",
   "execution_count": null,
   "metadata": {},
   "outputs": [],
   "source": [
    "for idx, image in enumerate(image_set):\n",
    "    fig, ax = plt.subplots(figsize=(15, 10))\n",
    "    ax, count = ds.plot_and_count(imgbin_yen[idx], intensity_image=image)\n",
    "    filename = 'res_figures/yen/image' + str(idx+1) + '_yen.eps' \n",
    "    plt.savefig(filename, bbox_inches='tight')\n",
    "    plt.clf()"
   ]
  },
  {
   "cell_type": "markdown",
   "metadata": {},
   "source": [
    "#### Li"
   ]
  },
  {
   "cell_type": "code",
   "execution_count": null,
   "metadata": {},
   "outputs": [],
   "source": [
    "for idx, image in enumerate(image_set):\n",
    "    fig, ax = plt.subplots(figsize=(15, 10))\n",
    "    ax, count = ds.plot_and_count(imgbin_li[idx], intensity_image=image)\n",
    "    filename = 'res_figures/li/image' + str(idx+1) + '_li.eps' \n",
    "    plt.savefig(filename, bbox_inches='tight')\n",
    "    plt.clf()"
   ]
  },
  {
   "cell_type": "markdown",
   "metadata": {},
   "source": [
    "#### ISODATA"
   ]
  },
  {
   "cell_type": "code",
   "execution_count": null,
   "metadata": {},
   "outputs": [],
   "source": [
    "for idx, image in enumerate(image_set):\n",
    "    fig, ax = plt.subplots(figsize=(15, 10))\n",
    "    ax, count = ds.plot_and_count(imgbin_isodata[idx], intensity_image=image)\n",
    "    filename = 'res_figures/isodata/image' + str(idx+1) + '_isodata.eps' \n",
    "    plt.savefig(filename, bbox_inches='tight')\n",
    "    plt.clf()"
   ]
  },
  {
   "cell_type": "markdown",
   "metadata": {},
   "source": [
    "#### MLSS"
   ]
  },
  {
   "cell_type": "code",
   "execution_count": null,
   "metadata": {},
   "outputs": [],
   "source": [
    "for idx, image in enumerate(image_set):\n",
    "    fig, ax = plt.subplots(figsize=(15, 10))\n",
    "    ax, count = ds.plot_and_count(imgbin_mlss[idx], intensity_image=image)\n",
    "    filename = 'res_figures/mlss/image' + str(idx+1) + '_mlss.eps' \n",
    "    plt.savefig(filename, bbox_inches='tight')\n",
    "    plt.clf()"
   ]
  },
  {
   "cell_type": "code",
   "execution_count": null,
   "metadata": {},
   "outputs": [],
   "source": [
    "fig, ax = plt.subplots(figsize=(15, 10))\n",
    "ax, count = ds.plot_and_count(imgbin_otsu[0])"
   ]
  },
  {
   "cell_type": "code",
   "execution_count": null,
   "metadata": {},
   "outputs": [],
   "source": [
    "plt.figure(figsize=(15, 10))\n",
    "plt.imshow(imgbin_otsu[0])"
   ]
  },
  {
   "cell_type": "code",
   "execution_count": null,
   "metadata": {},
   "outputs": [],
   "source": [
    "image = imread('test1.jpg', as_grey=True)"
   ]
  },
  {
   "cell_type": "code",
   "execution_count": null,
   "metadata": {},
   "outputs": [],
   "source": [
    "thresh = threshold_otsu(image)\n",
    "image_bin = thresh > image"
   ]
  },
  {
   "cell_type": "code",
   "execution_count": null,
   "metadata": {},
   "outputs": [],
   "source": [
    "image_bin = binary_fill_holes(remove_small_objects(image_bin))"
   ]
  },
  {
   "cell_type": "code",
   "execution_count": null,
   "metadata": {},
   "outputs": [],
   "source": [
    "fig, ax = plt.subplots(figsize=(15, 10))\n",
    "ax, count = ds.plot_and_count(image_bin, intensity_image=image)"
   ]
  },
  {
   "cell_type": "code",
   "execution_count": null,
   "metadata": {},
   "outputs": [],
   "source": [
    "count"
   ]
  },
  {
   "cell_type": "code",
   "execution_count": null,
   "metadata": {},
   "outputs": [],
   "source": []
  }
 ],
 "metadata": {
  "kernelspec": {
   "display_name": "Python 3",
   "language": "python",
   "name": "python3"
  },
  "language_info": {
   "codemirror_mode": {
    "name": "ipython",
    "version": 3
   },
   "file_extension": ".py",
   "mimetype": "text/x-python",
   "name": "python",
   "nbconvert_exporter": "python",
   "pygments_lexer": "ipython3",
   "version": "3.6.6"
  }
 },
 "nbformat": 4,
 "nbformat_minor": 2
}
