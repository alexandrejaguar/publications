{
 "cells": [
  {
   "cell_type": "code",
   "execution_count": 1,
   "metadata": {},
   "outputs": [],
   "source": [
    "import pandas as pd\n",
    "import numpy as np"
   ]
  },
  {
   "cell_type": "code",
   "execution_count": 2,
   "metadata": {},
   "outputs": [],
   "source": [
    "manual_45 = pd.read_excel('manual_count/manual_Kr-78_4,5min.xls')\n",
    "manual_85 = pd.read_excel('manual_count/manual_Kr-78_8,5min.xls')\n",
    "manual_dat2 = pd.read_excel('manual_count/manual_dataset02.xls')\n",
    "\n",
    "auto_45 = pd.read_csv('auto_count/autoincid_Kr-78_4,5min.txt')\n",
    "auto_85 = pd.read_csv('auto_count/autoincid_Kr-78_8,5min.txt')\n",
    "auto_dat2 = pd.read_csv('auto_count/auto_dataset02.txt')"
   ]
  },
  {
   "cell_type": "code",
   "execution_count": 3,
   "metadata": {},
   "outputs": [],
   "source": [
    "auto = np.asarray(list(auto_45[(auto_45['initial_radius'] == 5) &\n",
    "                               (auto_45['delta_radius'] == 4)].auto_withborder) +\n",
    "                  list(auto_45[(auto_45['initial_radius'] == 25) &\n",
    "                               (auto_45['delta_radius'] == 2)].auto_noborder) +\n",
    "                  list(auto_85[(auto_85['initial_radius'] == 5) &\n",
    "                               (auto_85['delta_radius'] == 4)].auto_withborder) +\n",
    "                  list(auto_85[(auto_85['initial_radius'] == 25) &\n",
    "                               (auto_85['delta_radius'] == 2)].auto_noborder) +\n",
    "                  list(auto_dat2[(auto_dat2['initial_radius'] == 10) &\n",
    "                                 (auto_dat2['delta_radius'] == 8)].auto_withborder) +\n",
    "                  list(auto_dat2[(auto_dat2['initial_radius'] == 10) &\n",
    "                                 (auto_dat2['delta_radius'] == 8)].auto_noborder))"
   ]
  },
  {
   "cell_type": "code",
   "execution_count": 4,
   "metadata": {},
   "outputs": [],
   "source": [
    "manual = np.asarray(list(manual_45.manual_withborder) + list(manual_45.manual_noborder) +\n",
    "                    list(manual_85.manual_withborder) + list(manual_85.manual_noborder) +\n",
    "                    list(manual_dat2.manual_withborder) + list(manual_dat2.manual_noborder))"
   ]
  },
  {
   "cell_type": "code",
   "execution_count": 10,
   "metadata": {},
   "outputs": [],
   "source": [
    "smp_mean = np.mean(auto / manual)\n",
    "smp_stdmean = np.std(auto / manual) / np.sqrt(len(auto))"
   ]
  },
  {
   "cell_type": "code",
   "execution_count": 9,
   "metadata": {},
   "outputs": [
    {
     "name": "stdout",
     "output_type": "stream",
     "text": [
      "mu =  0.950299721818 , sigma =  0.0046978032347\n"
     ]
    }
   ],
   "source": [
    "print('mu = ', smp_mean, ', sigma = ', smp_stdmean)"
   ]
  },
  {
   "cell_type": "code",
   "execution_count": null,
   "metadata": {},
   "outputs": [],
   "source": []
  }
 ],
 "metadata": {
  "kernelspec": {
   "display_name": "Python 3",
   "language": "python",
   "name": "python3"
  },
  "language_info": {
   "codemirror_mode": {
    "name": "ipython",
    "version": 3
   },
   "file_extension": ".py",
   "mimetype": "text/x-python",
   "name": "python",
   "nbconvert_exporter": "python",
   "pygments_lexer": "ipython3",
   "version": "3.6.3"
  }
 },
 "nbformat": 4,
 "nbformat_minor": 2
}
