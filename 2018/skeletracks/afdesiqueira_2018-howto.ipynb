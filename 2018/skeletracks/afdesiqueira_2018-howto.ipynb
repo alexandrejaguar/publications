{
 "cells": [
  {
   "cell_type": "code",
   "execution_count": 1,
   "metadata": {},
   "outputs": [],
   "source": [
    "from glob import glob\n",
    "from itertools import combinations, permutations, product\n",
    "from matplotlib import rcParams\n",
    "from matplotlib.ticker import MultipleLocator\n",
    "from mpl_toolkits.axes_grid1 import make_axes_locatable\n",
    "from scipy import ndimage\n",
    "from scipy.ndimage.morphology import binary_fill_holes\n",
    "from scipy.stats import norm\n",
    "from skimage.color import gray2rgb\n",
    "from skimage.draw import line\n",
    "from skimage.graph import route_through_array\n",
    "from skimage.io import ImageCollection, imread, imsave\n",
    "from skimage.util import img_as_float, img_as_ubyte\n",
    "from skimage.filters import threshold_otsu, threshold_yen, threshold_li, threshold_isodata\n",
    "from skimage.measure import regionprops, label, compare_ssim\n",
    "from skimage.morphology import remove_small_objects, skeletonize, skeletonize_3d\n",
    "from skimage.segmentation import clear_border\n",
    "\n",
    "from supmat_support import *\n",
    "\n",
    "import desiqueira2018 as ds\n",
    "\n",
    "import matplotlib.mlab as mlab\n",
    "import matplotlib.pyplot as plt\n",
    "import matplotlib.patches as mpatches\n",
    "import numpy as np\n",
    "import pandas as pd\n",
    "import os\n",
    "import statistics as stats\n",
    "\n",
    "plt.rcParams['font.family'] = 'monospace'\n",
    "plt.rcParams['font.size'] = 15\n",
    "plt.rcParams['axes.labelsize'] = plt.rcParams['font.size']\n",
    "plt.rcParams['axes.titlesize'] = 1.5*plt.rcParams['font.size']\n",
    "plt.rcParams['legend.fontsize'] = 1.5*plt.rcParams['font.size']\n",
    "plt.rcParams['xtick.labelsize'] = plt.rcParams['font.size']\n",
    "plt.rcParams['ytick.labelsize'] = plt.rcParams['font.size']\n",
    "%matplotlib inline"
   ]
  },
  {
   "cell_type": "markdown",
   "metadata": {},
   "source": [
    "## Obtaining the image collection\n",
    "\n",
    "* First, we use `ImageCollection()` to read all images in the folder `orig_figures`. After that, we print the number of images in this dataset."
   ]
  },
  {
   "cell_type": "code",
   "execution_count": 2,
   "metadata": {},
   "outputs": [
    {
     "name": "stdout",
     "output_type": "stream",
     "text": [
      "Number of images on dataset:  79\n"
     ]
    }
   ],
   "source": [
    "def imread_convert(image):\n",
    "    \"\"\"Support function for ImageCollection. Converts the input image to\n",
    "    gray.\n",
    "    \"\"\"\n",
    "\n",
    "    return imread(image, as_grey=True)\n",
    "\n",
    "imgset_mica = ImageCollection(load_pattern='orig_figures/*mica*.tif', load_func=imread_convert)\n",
    "imgset_apatite = ImageCollection(load_pattern='orig_figures/*apatite*.tif', load_func=imread_convert)\n",
    "\n",
    "print('Number of images on dataset: ', len(imgset_mica) + len(imgset_apatite))"
   ]
  },
  {
   "cell_type": "markdown",
   "metadata": {},
   "source": [
    "## Binarizing images\n",
    "\n",
    "* Here we binarize all images using different algorithms: Otsu, Yen, Li, ISODATA, triangle, MLSS.\n",
    "\n",
    "* We also perform some cleaning actions:\n",
    "    * `remove_small_objects()`, in its default settings, removes objects with an area smaller than 64 px.\n",
    "    * `binary_fill_holes()` fills holes contained in objects.\n",
    "    * `clear_rd_border()` removes objects touching the lower and right borders. These objects could not be identified with precision.\n",
    "\n",
    "* After that, we present the results of these actions on the first images from the set."
   ]
  },
  {
   "cell_type": "code",
   "execution_count": 3,
   "metadata": {},
   "outputs": [],
   "source": [
    "def binarize_imageset(image_set):\n",
    "    \n",
    "    imgbin_otsu, imgbin_yen, imgbin_li, imgbin_iso, imgbin_tri, imgbin_mlss = [[] for _ in range(6)]\n",
    "\n",
    "    for idx, img in enumerate(image_set):\n",
    "        # Filtering\n",
    "        img = ndimage.median_filter(img, size=(7, 7))\n",
    "        # Otsu\n",
    "        imgbin_otsu.append(binarize_imageset_aux(img < threshold_otsu(img)))\n",
    "        # Yen\n",
    "        imgbin_yen.append(binarize_imageset_aux(img < threshold_yen(img)))\n",
    "        # Li\n",
    "        imgbin_li.append(binarize_imageset_aux(img < threshold_li(img)))\n",
    "        # ISODATA\n",
    "        imgbin_iso.append(binarize_imageset_aux(img < threshold_isodata(img)))\n",
    "        # MLSS\n",
    "        aux = pd.read_csv('auto_count/mlss/imgbin_mlss' + str(idx+1) + '.csv')\n",
    "        imgbin_mlss.append(binarize_imageset_aux(np.asarray(aux, dtype='bool')))\n",
    "\n",
    "    return imgbin_otsu, imgbin_yen, imgbin_li, imgbin_iso, imgbin_mlss\n",
    "\n",
    "\n",
    "def binarize_imageset_aux(image):\n",
    "    \n",
    "    return ds.clear_rd_border(remove_small_objects(binary_fill_holes(image)))"
   ]
  },
  {
   "cell_type": "markdown",
   "metadata": {},
   "source": [
    "* Binarizing images."
   ]
  },
  {
   "cell_type": "code",
   "execution_count": 4,
   "metadata": {},
   "outputs": [],
   "source": [
    "binotsu_mica, binyen_mica, binli_mica, biniso_mica, binmlss_mica = binarize_imageset(imgset_mica)\n",
    "binotsu_apatite, binyen_apatite, binli_apatite, biniso_apatite, binmlss_apatite = binarize_imageset(imgset_apatite)"
   ]
  },
  {
   "cell_type": "markdown",
   "metadata": {},
   "source": [
    "### Samples"
   ]
  },
  {
   "cell_type": "code",
   "execution_count": 232,
   "metadata": {},
   "outputs": [],
   "source": []
  },
  {
   "cell_type": "code",
   "execution_count": 4,
   "metadata": {},
   "outputs": [],
   "source": [
    "testimg_apatite = imread('orig_figures/dur_grain1apatite01.tif', as_grey=True)\n",
    "testimg_mica = imread('orig_figures/dur_grain1mica01.tif', as_grey=True)"
   ]
  },
  {
   "cell_type": "code",
   "execution_count": null,
   "metadata": {},
   "outputs": [],
   "source": [
    "fig, ax = plt.subplots(figsize=(18, 9), nrows=1, ncols=3)\n",
    "\n",
    "# Otsu\n",
    "ax[0].imshow(binotsu_mica[0], cmap='gray')\n",
    "ax[0].set_xlabel('Otsu')\n",
    "\n",
    "# Yen\n",
    "ax[1].imshow(binyen_mica[0], cmap='gray')\n",
    "ax[1].set_xlabel('Yen')\n",
    "\n",
    "# Li\n",
    "ax[2].imshow(binli_mica[0], cmap='gray')\n",
    "ax[2].set_xlabel('Li')\n",
    "\n",
    "fig, ax = plt.subplots(figsize=(18, 9), nrows=1, ncols=2)\n",
    "\n",
    "# ISODATA\n",
    "ax[0].imshow(biniso_mica[0], cmap='gray')\n",
    "ax[0].set_xlabel('ISODATA')\n",
    "\n",
    "# MLSS\n",
    "ax[1].imshow(binmlss_mica[0], cmap='gray')\n",
    "ax[1].set_xlabel('MLSS')"
   ]
  },
  {
   "cell_type": "code",
   "execution_count": null,
   "metadata": {},
   "outputs": [],
   "source": [
    "fig, ax = plt.subplots(figsize=(18, 9), nrows=1, ncols=3)\n",
    "\n",
    "# Otsu\n",
    "ax[0].imshow(binotsu_apatite[0], cmap='gray')\n",
    "ax[0].set_xlabel('Otsu')\n",
    "\n",
    "# Yen\n",
    "ax[1].imshow(binyen_apatite[0], cmap='gray')\n",
    "ax[1].set_xlabel('Yen')\n",
    "\n",
    "# Li\n",
    "ax[2].imshow(binli_apatite[0], cmap='gray')\n",
    "ax[2].set_xlabel('Li')\n",
    "\n",
    "fig, ax = plt.subplots(figsize=(18, 9), nrows=1, ncols=2)\n",
    "\n",
    "# ISODATA\n",
    "ax[0].imshow(biniso_apatite[0], cmap='gray')\n",
    "ax[0].set_xlabel('ISODATA')\n",
    "\n",
    "# MLSS\n",
    "ax[1].imshow(binmlss_apatite[0], cmap='gray')\n",
    "ax[1].set_xlabel('MLSS')"
   ]
  },
  {
   "cell_type": "markdown",
   "metadata": {},
   "source": [
    "## Pre-processing images\n",
    "\n",
    "* Separating regions and skeletonizing."
   ]
  },
  {
   "cell_type": "code",
   "execution_count": null,
   "metadata": {},
   "outputs": [],
   "source": [
    "regotsu_mica = ds.regions_and_skel(binotsu_mica)\n",
    "regyen_mica = ds.regions_and_skel(binyen_mica)\n",
    "regli_mica = ds.regions_and_skel(binli_mica)\n",
    "regiso_mica = ds.regions_and_skel(biniso_mica)\n",
    "regmlss_mica = ds.regions_and_skel(binmlss_mica)"
   ]
  },
  {
   "cell_type": "code",
   "execution_count": null,
   "metadata": {},
   "outputs": [],
   "source": [
    "regotsu_apatite = ds.regions_and_skel(binotsu_apatite)\n",
    "regyen_apatite = ds.regions_and_skel(binyen_apatite)\n",
    "regli_apatite = ds.regions_and_skel(binli_apatite)\n",
    "regiso_apatite = ds.regions_and_skel(biniso_apatite)\n",
    "regmlss_apatite = ds.regions_and_skel(binmlss_apatite)"
   ]
  },
  {
   "cell_type": "markdown",
   "metadata": {},
   "source": [
    "## Automatic counting\n",
    "\n",
    "* Functions for classifying and counting tracks.\n",
    "\n",
    "* Please uncomment (remove the `#` in) the lines that start with `autocount_` below to generate the results. If you do not want to calculate them, they are already stored in the folder `auto_count`."
   ]
  },
  {
   "cell_type": "markdown",
   "metadata": {},
   "source": [
    "### Otsu"
   ]
  },
  {
   "cell_type": "code",
   "execution_count": null,
   "metadata": {},
   "outputs": [],
   "source": [
    "# counting tracks in mica.\n",
    "ds.count_and_save(regotsu_mica,\n",
    "                  filename='auto_count/autootsu_mica.csv',\n",
    "                  show_exectime=False)\n",
    "# counting tracks in apatite.\n",
    "ds.count_and_save(regotsu_apatite,\n",
    "                  filename='auto_count/autootsu_apatite.csv',\n",
    "                  show_exectime=False)"
   ]
  },
  {
   "cell_type": "markdown",
   "metadata": {},
   "source": [
    "### Yen"
   ]
  },
  {
   "cell_type": "code",
   "execution_count": null,
   "metadata": {},
   "outputs": [],
   "source": [
    "# counting tracks in mica.\n",
    "ds.count_and_save(regyen_mica,\n",
    "                  filename='auto_count/autoyen_mica.csv',\n",
    "                  show_exectime=False)\n",
    "\n",
    "# counting tracks in apatite.\n",
    "ds.count_and_save(regyen_apatite,\n",
    "                  filename='auto_count/autoyen_apatite.csv',\n",
    "                  show_exectime=False)"
   ]
  },
  {
   "cell_type": "markdown",
   "metadata": {},
   "source": [
    "### Li"
   ]
  },
  {
   "cell_type": "code",
   "execution_count": null,
   "metadata": {},
   "outputs": [],
   "source": [
    "# counting tracks in mica.\n",
    "ds.count_and_save(regli_mica,\n",
    "                  filename='auto_count/autoli_mica.csv',\n",
    "                  show_exectime=False)\n",
    "\n",
    "# counting tracks in apatite.\n",
    "ds.count_and_save(regli_apatite,\n",
    "                  filename='auto_count/autoli_apatite.csv',\n",
    "                  show_exectime=False)"
   ]
  },
  {
   "cell_type": "markdown",
   "metadata": {},
   "source": [
    "### ISODATA"
   ]
  },
  {
   "cell_type": "code",
   "execution_count": null,
   "metadata": {},
   "outputs": [],
   "source": [
    "# counting tracks in mica.\n",
    "ds.count_and_save(regiso_mica,\n",
    "                  filename='auto_count/autoiso_mica.csv',\n",
    "                  show_exectime=False)\n",
    "\n",
    "# counting tracks in apatite.\n",
    "ds.count_and_save(regiso_apatite,\n",
    "                  filename='auto_count/autoiso_apatite.csv',\n",
    "                  show_exectime=False)"
   ]
  },
  {
   "cell_type": "markdown",
   "metadata": {},
   "source": [
    "### MLSS"
   ]
  },
  {
   "cell_type": "code",
   "execution_count": null,
   "metadata": {},
   "outputs": [],
   "source": [
    "# counting tracks in mica.\n",
    "ds.count_and_save(regmlss_mica,\n",
    "                  filename='auto_count/automlss_mica.csv',\n",
    "                  show_exectime=False)\n",
    "\n",
    "# counting tracks in apatite.\n",
    "ds.count_and_save(regmlss_apatite,\n",
    "                  filename='auto_count/automlss_apatite.csv',\n",
    "                  show_exectime=False)"
   ]
  },
  {
   "cell_type": "markdown",
   "metadata": {},
   "source": [
    "* Reading automatic counting."
   ]
  },
  {
   "cell_type": "code",
   "execution_count": 60,
   "metadata": {},
   "outputs": [],
   "source": [
    "autootsu_mica = np.loadtxt('auto_count/autootsu_mica.csv', delimiter=',')\n",
    "autoyen_mica = np.loadtxt('auto_count/autoyen_mica.csv', delimiter=',')\n",
    "autoli_mica = np.loadtxt('auto_count/autoli_mica.csv', delimiter=',')\n",
    "autoiso_mica = np.loadtxt('auto_count/autoiso_mica.csv', delimiter=',')\n",
    "automlss_mica = np.loadtxt('auto_count/automlss_mica.csv', delimiter=',')"
   ]
  },
  {
   "cell_type": "code",
   "execution_count": 61,
   "metadata": {},
   "outputs": [],
   "source": [
    "autootsu_apatite = np.loadtxt('auto_count/autootsu_apatite.csv', delimiter=',')\n",
    "autoyen_apatite = np.loadtxt('auto_count/autoyen_apatite.csv', delimiter=',')\n",
    "autoli_apatite = np.loadtxt('auto_count/autoli_apatite.csv', delimiter=',')\n",
    "autoiso_apatite = np.loadtxt('auto_count/autoiso_apatite.csv', delimiter=',')\n",
    "automlss_apatite = np.loadtxt('auto_count/automlss_apatite.csv', delimiter=',')"
   ]
  },
  {
   "cell_type": "markdown",
   "metadata": {},
   "source": [
    "## Manual counting\n",
    "\n",
    "* Reading manual counting."
   ]
  },
  {
   "cell_type": "code",
   "execution_count": 68,
   "metadata": {},
   "outputs": [],
   "source": [
    "manual_mica = ds.manual_counting(mineral='mica')\n",
    "manual_apatite = ds.manual_counting(mineral='apatite')"
   ]
  },
  {
   "cell_type": "code",
   "execution_count": null,
   "metadata": {},
   "outputs": [],
   "source": []
  },
  {
   "cell_type": "code",
   "execution_count": null,
   "metadata": {},
   "outputs": [],
   "source": [
    "def ratio_manauto(manual, auto):\n",
    "    \"\"\"\n",
    "    \"\"\"\n",
    "\n",
    "    ratio = np.asarray(auto) / np.asarray(man)\n",
    "\n",
    "    print('\\n* Manual mean: ', str(manual.mean()), ' +/- ', str(manual.std()),\n",
    "          '\\n* Auto mean: ', str(auto.mean()), ' +/- ', str(auto.std()),\n",
    "          '\\n* Ratio mean: ', str(ratio.mean()), ' +/- ', str(ratio.std()))\n",
    "\n",
    "    return None\n"
   ]
  },
  {
   "cell_type": "code",
   "execution_count": null,
   "metadata": {},
   "outputs": [],
   "source": [
    "manual_mica / autootsu_mica"
   ]
  },
  {
   "cell_type": "code",
   "execution_count": null,
   "metadata": {},
   "outputs": [],
   "source": [
    "print('* Otsu:')\n",
    "ratio_manauto(np.asarray(manual_mica), np.asarray(autootsu_mica))\n",
    "ratio_manauto(np.asarray(manual_apatite), np.asarray(autootsu_apatite))"
   ]
  },
  {
   "cell_type": "code",
   "execution_count": null,
   "metadata": {},
   "outputs": [],
   "source": [
    "np.mean(automlss_mica)/np.mean(automlss_apatite)"
   ]
  },
  {
   "cell_type": "code",
   "execution_count": null,
   "metadata": {},
   "outputs": [],
   "source": [
    "print('* Yen:')\n",
    "ratio_manauto(np.asarray(manual_mica), np.asarray(autoyen_mica))\n",
    "ratio_manauto(np.asarray(manual_apatite), np.asarray(autoyen_apatite))"
   ]
  },
  {
   "cell_type": "code",
   "execution_count": null,
   "metadata": {
    "scrolled": false
   },
   "outputs": [],
   "source": [
    "print('* Li:')\n",
    "ratio_manauto(np.asarray(manual_mica), np.asarray(autoli_mica))\n",
    "ratio_manauto(np.asarray(manual_apatite), np.asarray(autoli_apatite))"
   ]
  },
  {
   "cell_type": "code",
   "execution_count": null,
   "metadata": {},
   "outputs": [],
   "source": [
    "print('* ISODATA:')\n",
    "ratio_manauto(np.asarray(manual_mica), np.asarray(autoiso_mica))\n",
    "ratio_manauto(np.asarray(manual_apatite), np.asarray(autoiso_apatite))"
   ]
  },
  {
   "cell_type": "code",
   "execution_count": null,
   "metadata": {},
   "outputs": [],
   "source": [
    "print('* MLSS:')\n",
    "ratio_manauto(np.asarray(manual_mica), np.asarray(automlss_mica))\n",
    "ratio_manauto(np.asarray(manual_apatite), np.asarray(automlss_apatite))"
   ]
  },
  {
   "cell_type": "code",
   "execution_count": null,
   "metadata": {},
   "outputs": [],
   "source": [
    "def plot_tracks(image, trk_averages, trk_points):\n",
    "    '''\n",
    "    '''\n",
    "\n",
    "    if trk_averages is None:\n",
    "        print('No averages (possibly only one track).')\n",
    "        return None\n",
    "\n",
    "    image_rgb = gray2rgb(image)\n",
    "\n",
    "    # preparing the plot window.\n",
    "    fig, ax = plt.subplots(nrows=1, ncols=1)\n",
    "\n",
    "    for trk_idx, trk_pt in enumerate(trk_points):\n",
    "\n",
    "        # calculating route and distances.\n",
    "        route, _ = route_through_array(~image, trk_pt[0], trk_pt[1])\n",
    "        distances, _, _ = ds.track_parameters(trk_pt[0], trk_pt[1], route)\n",
    "\n",
    "        # generating minimal distance line.\n",
    "        rows, cols = line(trk_pt[0][0], trk_pt[0][1],\n",
    "                          trk_pt[1][0], trk_pt[1][1])\n",
    "        image_rgb[rows, cols] = [0, 255, 0]\n",
    "\n",
    "        # plotting minimal distance and route.\n",
    "        ax.imshow(image_rgb, cmap='gray')\n",
    "\n",
    "        for rt_pt in route:\n",
    "            ax.scatter(rt_pt[1], rt_pt[0], c='b')\n",
    "\n",
    "        #plotting extreme points.\n",
    "        for pt in trk_pt:\n",
    "            ax.scatter(pt[1], pt[0], c='g')\n",
    "\n",
    "    return None"
   ]
  },
  {
   "cell_type": "code",
   "execution_count": null,
   "metadata": {},
   "outputs": [],
   "source": [
    "np.mean(autoiso_mica)/np.mean(autoiso_apatite)"
   ]
  },
  {
   "cell_type": "markdown",
   "metadata": {},
   "source": [
    "## Calibration and conversion: from $px$ to $cm^2$"
   ]
  },
  {
   "cell_type": "code",
   "execution_count": 2,
   "metadata": {},
   "outputs": [
    {
     "data": {
      "text/plain": [
       "Text(0,0.5,'Length (mm)')"
      ]
     },
     "execution_count": 2,
     "metadata": {},
     "output_type": "execute_result"
    },
    {
     "data": {
      "image/png": "[encoded data removed]",
      "text/plain": [
       "<Figure size 1080x720 with 1 Axes>"
      ]
     },
     "metadata": {},
     "output_type": "display_data"
    }
   ],
   "source": [
    "calib = pd.read_csv('calibration/calibration_curve.csv')\n",
    "poly_coef = np.polyfit(x=calib['px'], y=calib['mm'], deg=1)\n",
    "\n",
    "fit = np.arange(0, 760)\n",
    "fit_mm = poly_coef[0] * fit + poly_coef[1]\n",
    "\n",
    "fig, ax = plt.subplots(figsize=(15, 10))\n",
    "ax.scatter(x=calib['px'],\n",
    "           y=calib['mm'],\n",
    "           c='k')\n",
    "ax.plot(fit, fit_mm, c='m')\n",
    "ax.set_xlabel('Length (px)')\n",
    "ax.set_ylabel('Length (mm)')"
   ]
  },
  {
   "cell_type": "code",
   "execution_count": 3,
   "metadata": {},
   "outputs": [],
   "source": [
    "def px_to_mm(poly_coef, length=760):\n",
    "\n",
    "    ang_coef, lin_coef = poly_coef\n",
    "    mm = length*ang_coef + lin_coef\n",
    "\n",
    "    return mm\n",
    "\n",
    "\n",
    "def px_to_mm2(poly_coef, len_x=760, len_y=570):\n",
    "\n",
    "    ang_coef, lin_coef = poly_coef\n",
    "    mm2 = (len_x*ang_coef + lin_coef) * (len_y*ang_coef + lin_coef)\n",
    "\n",
    "    return mm2\n",
    "\n",
    "\n",
    "def px_to_cm2(len_x=760, len_y=570):\n",
    "    return px_to_mm2(len_x, len_y) * 1e-8"
   ]
  },
  {
   "cell_type": "code",
   "execution_count": 8,
   "metadata": {},
   "outputs": [
    {
     "data": {
      "text/plain": [
       "1.0082529810529153"
      ]
     },
     "execution_count": 8,
     "metadata": {},
     "output_type": "execute_result"
    }
   ],
   "source": [
    "px_to_mm(poly_coef, length=4.2) * 1e3"
   ]
  },
  {
   "cell_type": "code",
   "execution_count": 114,
   "metadata": {},
   "outputs": [],
   "source": [
    "def gqr_calc(mica, apatite):\n",
    "    \"\"\"\n",
    "    \"\"\"\n",
    "\n",
    "    gqr = np.mean(mica/px_to_cm2()) / np.mean(apatite/px_to_cm2())\n",
    "\n",
    "    return gqr\n",
    "\n",
    "\n",
    "def track_stats(ext_detec, int_surf):\n",
    "    \"\"\"\n",
    "    \"\"\"\n",
    "\n",
    "    # ed: external detector\n",
    "    rho_ed = np.mean(ext_detec) / px_to_cm2()\n",
    "    n_ed = np.sum(ext_detec)\n",
    "\n",
    "    sigma_n_ed = np.sqrt(n_ed)\n",
    "    relat_ed = 1/np.sqrt(n_ed)  # incerteza relativa\n",
    "    sigma_rho_ed = relat_ed * rho_ed\n",
    "\n",
    "    # is: internal surface\n",
    "    rho_is = np.mean(int_surf) / px_to_cm2()\n",
    "    n_is = np.sum(int_surf)\n",
    "\n",
    "    sigma_n_is = np.sqrt(n_is)\n",
    "    relat_is = 1/np.sqrt(n_is)  # incerteza relativa\n",
    "    sigma_rho_is = relat_is * rho_is\n",
    "\n",
    "    # GQR\n",
    "    gqr = rho_ed / rho_is\n",
    "    sigma_gqr = np.sqrt((relat_is ** 2) + (relat_ed ** 2)) * gqr\n",
    "\n",
    "    stats = ((n_ed, sigma_n_ed), (n_is, sigma_n_is),\n",
    "             (rho_ed * 1e-6, sigma_rho_ed * 1e-6),\n",
    "             (rho_is * 1e-6, sigma_rho_is * 1e-6),\n",
    "             (gqr, sigma_gqr))\n",
    "\n",
    "    return stats"
   ]
  },
  {
   "cell_type": "markdown",
   "metadata": {},
   "source": [
    "## Obtaining track stats for each counting."
   ]
  },
  {
   "cell_type": "code",
   "execution_count": 62,
   "metadata": {},
   "outputs": [
    {
     "data": {
      "text/plain": [
       "((2133.0, 46.184412955021955),\n",
       " (2279.0, 47.738873049120045),\n",
       " (369686.8878711773, 8004.581290904525),\n",
       " (645152.4371849076, 13514.19495221619),\n",
       " (0.5730225394238433, 0.017263222439557347))"
      ]
     },
     "execution_count": 62,
     "metadata": {},
     "output_type": "execute_result"
    }
   ],
   "source": [
    "track_stats(autootsu_mica, autootsu_apatite)"
   ]
  },
  {
   "cell_type": "code",
   "execution_count": 63,
   "metadata": {},
   "outputs": [
    {
     "data": {
      "text/plain": [
       "((2407.0, 49.06118628814432),\n",
       " (2484.0, 49.839743177508446),\n",
       " (417175.96770085505, 8503.1773437094),\n",
       " (703185.0170984248, 14108.921360087515),\n",
       " (0.5932662920240561, 0.016968156612859046))"
      ]
     },
     "execution_count": 63,
     "metadata": {},
     "output_type": "execute_result"
    }
   ],
   "source": [
    "track_stats(autoyen_mica, autoyen_apatite)"
   ]
  },
  {
   "cell_type": "code",
   "execution_count": 64,
   "metadata": {},
   "outputs": [
    {
     "data": {
      "text/plain": [
       "((2079.0, 45.59605246071199),\n",
       " (2150.0, 46.36809247747852),\n",
       " (360327.72615291964, 7902.607938777101),\n",
       " (608634.374702743, 13126.146498227487),\n",
       " (0.5920265780730898, 0.018210152050071))"
      ]
     },
     "execution_count": 64,
     "metadata": {},
     "output_type": "execute_result"
    }
   ],
   "source": [
    "track_stats(autoli_mica, autoli_apatite)"
   ]
  },
  {
   "cell_type": "code",
   "execution_count": 65,
   "metadata": {},
   "outputs": [
    {
     "data": {
      "text/plain": [
       "((2136.0, 46.216880033165374),\n",
       " (2282.0, 47.77028364998475),\n",
       " (370206.84129996935, 8010.208413772365),\n",
       " (646001.6944519347, 13523.086845898202),\n",
       " (0.5730741025595163, 0.017253022731376997))"
      ]
     },
     "execution_count": 65,
     "metadata": {},
     "output_type": "execute_result"
    }
   ],
   "source": [
    "track_stats(autoiso_mica, autoiso_apatite)"
   ]
  },
  {
   "cell_type": "code",
   "execution_count": 66,
   "metadata": {},
   "outputs": [
    {
     "data": {
      "text/plain": [
       "((5583.0, 74.71947537289057),\n",
       " (3346.0, 57.844619455918284),\n",
       " (967633.3309820829, 12950.21580589357),\n",
       " (947204.9384908734, 16374.987810451601),\n",
       " (1.0215670248972273, 0.02233425627526936))"
      ]
     },
     "execution_count": 66,
     "metadata": {},
     "output_type": "execute_result"
    }
   ],
   "source": [
    "track_stats(automlss_mica, automlss_apatite)"
   ]
  },
  {
   "cell_type": "code",
   "execution_count": 69,
   "metadata": {},
   "outputs": [
    {
     "data": {
      "text/plain": [
       "((2838, 53.27288240746881),\n",
       " (3114, 55.80322571321482),\n",
       " (491875.94363731885, 9233.139289800438),\n",
       " (881529.0431741123, 15797.09832016676),\n",
       " (0.5579804176005663, 0.0144805453864624))"
      ]
     },
     "execution_count": 69,
     "metadata": {},
     "output_type": "execute_result"
    }
   ],
   "source": [
    "track_stats(manual_mica, manual_apatite)"
   ]
  },
  {
   "cell_type": "markdown",
   "metadata": {},
   "source": [
    "## Counting time of each algorithm"
   ]
  },
  {
   "cell_type": "code",
   "execution_count": 70,
   "metadata": {},
   "outputs": [],
   "source": [
    "count_time = pd.read_csv('counting_time.csv')\n",
    "\n",
    "count_auto = [count_time[count_time['sample'] == 'mica']['otsu'],\n",
    "              count_time[count_time['sample'] == 'mica']['yen'],\n",
    "              count_time[count_time['sample'] == 'mica']['li'],\n",
    "              count_time[count_time['sample'] == 'mica']['isodata'],\n",
    "              count_time[count_time['sample'] == 'mica']['mlss']]"
   ]
  },
  {
   "cell_type": "code",
   "execution_count": null,
   "metadata": {},
   "outputs": [],
   "source": []
  },
  {
   "cell_type": "code",
   "execution_count": null,
   "metadata": {},
   "outputs": [],
   "source": [
    "\n",
    "\n",
    "    \n",
    "for trk_idx, trk_pt in enumerate(trk_px):\n",
    "\n",
    "    # calculating route and distances.\n",
    "    route, _ = route_through_array(~img_aux, trk_pt[0], trk_pt[1])\n",
    "    distances, _, _ = ds.track_parameters(trk_pt[0], trk_pt[1], route)\n",
    "\n",
    "    # generating minimal distance line.\n",
    "    rows, cols = line(trk_pt[0][0], trk_pt[0][1],\n",
    "                      trk_pt[1][0], trk_pt[1][1])\n",
    "    rgb_otsu[rows, cols] = [0, 255, 0]\n",
    "\n",
    "    # plotting minimal distance and route.\n",
    "    ax[1].imshow(rgb_otsu, cmap='gray')\n",
    "\n",
    "    for rt_pt in route:\n",
    "        ax[1].scatter(rt_pt[1], rt_pt[0], c='b')\n",
    "\n",
    "    #plotting extreme points.\n",
    "    for pt in trk_pt:\n",
    "        ax[1].scatter(pt[1], pt[0], c='g')\n",
    "\n",
    "ax[1].yaxis.set_visible(False)\n",
    "ax[1].set_xlabel('Otsu')\n",
    "\n",
    "ax[2].imshow(imgbin_yen[0][x_min:x_max, y_min:y_max], cmap='gray')\n",
    "ax[2].yaxis.set_visible(False)\n",
    "ax[2].set_xlabel('Yen')\n",
    "\n",
    "ax[3].imshow(imgbin_li[0][x_min:x_max, y_min:y_max], cmap='gray')\n",
    "ax[3].yaxis.set_visible(False)\n",
    "ax[3].set_xlabel('Li')\n",
    "\n",
    "ax[4].imshow(imgbin_isodata[0][x_min:x_max, y_min:y_max], cmap='gray')\n",
    "ax[4].yaxis.set_visible(False)\n",
    "ax[4].set_xlabel('ISODATA')\n",
    "\n",
    "ax[5].imshow(imgbin_triangle[0][x_min:x_max, y_min:y_max], cmap='gray')\n",
    "ax[5].yaxis.set_visible(False)\n",
    "ax[5].set_xlabel('Triangle')\n",
    "\n",
    "ax[6].imshow(imgbin_mlss[0][x_min:x_max, y_min:y_max], cmap='gray')\n",
    "ax[6].yaxis.set_visible(False)\n",
    "ax[6].set_xlabel('MLSS')"
   ]
  },
  {
   "cell_type": "code",
   "execution_count": null,
   "metadata": {},
   "outputs": [],
   "source": [
    "props = regionprops(label(imgbin_mlss[0]))\n",
    "x_min, y_min, x_max, y_max = props[10].bbox\n",
    "\n",
    "fig, ax = plt.subplots(nrows=1, ncols=7, figsize=(24, 6))\n",
    "\n",
    "ax[0].imshow(image_set[0][x_min:x_max, y_min:y_max], cmap='gray')\n",
    "ax[0].set_xlabel('Original')\n",
    "\n",
    "ax[1].imshow(imgbin_otsu[0][x_min:x_max, y_min:y_max], cmap='gray')\n",
    "ax[1].yaxis.set_visible(False)\n",
    "ax[1].set_xlabel('Otsu')\n",
    "\n",
    "ax[2].imshow(imgbin_yen[0][x_min:x_max, y_min:y_max], cmap='gray')\n",
    "ax[2].yaxis.set_visible(False)\n",
    "ax[2].set_xlabel('Yen')\n",
    "\n",
    "ax[3].imshow(imgbin_li[0][x_min:x_max, y_min:y_max], cmap='gray')\n",
    "ax[3].yaxis.set_visible(False)\n",
    "ax[3].set_xlabel('Li')\n",
    "\n",
    "ax[4].imshow(imgbin_isodata[0][x_min:x_max, y_min:y_max], cmap='gray')\n",
    "ax[4].yaxis.set_visible(False)\n",
    "ax[4].set_xlabel('ISODATA')\n",
    "\n",
    "ax[5].imshow(imgbin_triangle[0][x_min:x_max, y_min:y_max], cmap='gray')\n",
    "ax[5].yaxis.set_visible(False)\n",
    "ax[5].set_xlabel('Triangle')\n",
    "\n",
    "ax[6].imshow(imgbin_mlss[0][x_min:x_max, y_min:y_max], cmap='gray')\n",
    "ax[6].yaxis.set_visible(False)\n",
    "ax[6].set_xlabel('MLSS')"
   ]
  },
  {
   "cell_type": "code",
   "execution_count": null,
   "metadata": {},
   "outputs": [],
   "source": [
    "props = regionprops(label(imgbin_mlss[0]))\n",
    "x_min, y_min, x_max, y_max = props[15].bbox\n",
    "\n",
    "fig, ax = plt.subplots(nrows=1, ncols=7, figsize=(24, 6))\n",
    "\n",
    "ax[0].imshow(image_set[0][x_min:x_max, y_min:y_max], cmap='gray')\n",
    "ax[0].set_xlabel('Original')\n",
    "\n",
    "ax[1].imshow(imgbin_otsu[0][x_min:x_max, y_min:y_max], cmap='gray')\n",
    "ax[1].yaxis.set_visible(False)\n",
    "ax[1].set_xlabel('Otsu')\n",
    "\n",
    "ax[2].imshow(imgbin_yen[0][x_min:x_max, y_min:y_max], cmap='gray')\n",
    "ax[2].yaxis.set_visible(False)\n",
    "ax[2].set_xlabel('Yen')\n",
    "\n",
    "ax[3].imshow(imgbin_li[0][x_min:x_max, y_min:y_max], cmap='gray')\n",
    "ax[3].yaxis.set_visible(False)\n",
    "ax[3].set_xlabel('Li')\n",
    "\n",
    "ax[4].imshow(imgbin_isodata[0][x_min:x_max, y_min:y_max], cmap='gray')\n",
    "ax[4].yaxis.set_visible(False)\n",
    "ax[4].set_xlabel('ISODATA')\n",
    "\n",
    "ax[5].imshow(imgbin_triangle[0][x_min:x_max, y_min:y_max], cmap='gray')\n",
    "ax[5].yaxis.set_visible(False)\n",
    "ax[5].set_xlabel('Triangle')\n",
    "\n",
    "ax[6].imshow(imgbin_mlss[0][x_min:x_max, y_min:y_max], cmap='gray')\n",
    "ax[6].yaxis.set_visible(False)\n",
    "ax[6].set_xlabel('MLSS')"
   ]
  },
  {
   "cell_type": "code",
   "execution_count": null,
   "metadata": {},
   "outputs": [],
   "source": [
    "props = regionprops(label(imgbin_mlss[0]))\n",
    "x_min, y_min, x_max, y_max = props[17].bbox\n",
    "\n",
    "fig, ax = plt.subplots(nrows=1, ncols=7, figsize=(24, 6))\n",
    "\n",
    "ax[0].imshow(image_set[0][x_min:x_max, y_min:y_max], cmap='gray')\n",
    "ax[0].set_xlabel('Original')\n",
    "\n",
    "ax[1].imshow(imgbin_otsu[0][x_min:x_max, y_min:y_max], cmap='gray')\n",
    "ax[1].yaxis.set_visible(False)\n",
    "ax[1].set_xlabel('Otsu')\n",
    "\n",
    "ax[2].imshow(imgbin_yen[0][x_min:x_max, y_min:y_max], cmap='gray')\n",
    "ax[2].yaxis.set_visible(False)\n",
    "ax[2].set_xlabel('Yen')\n",
    "\n",
    "ax[3].imshow(imgbin_li[0][x_min:x_max, y_min:y_max], cmap='gray')\n",
    "ax[3].yaxis.set_visible(False)\n",
    "ax[3].set_xlabel('Li')\n",
    "\n",
    "ax[4].imshow(imgbin_isodata[0][x_min:x_max, y_min:y_max], cmap='gray')\n",
    "ax[4].yaxis.set_visible(False)\n",
    "ax[4].set_xlabel('ISODATA')\n",
    "\n",
    "ax[5].imshow(imgbin_triangle[0][x_min:x_max, y_min:y_max], cmap='gray')\n",
    "ax[5].yaxis.set_visible(False)\n",
    "ax[5].set_xlabel('Triangle')\n",
    "\n",
    "ax[6].imshow(imgbin_mlss[0][x_min:x_max, y_min:y_max], cmap='gray')\n",
    "ax[6].yaxis.set_visible(False)\n",
    "ax[6].set_xlabel('MLSS')"
   ]
  },
  {
   "cell_type": "code",
   "execution_count": null,
   "metadata": {},
   "outputs": [],
   "source": [
    "props = regionprops(label(imgbin_mlss[0]))\n",
    "x_min, y_min, x_max, y_max = props[25].bbox\n",
    "\n",
    "fig, ax = plt.subplots(nrows=1, ncols=7, figsize=(24, 6))\n",
    "\n",
    "ax[0].imshow(image_set[0][x_min:x_max, y_min:y_max], cmap='gray')\n",
    "ax[0].set_xlabel('Original')\n",
    "\n",
    "ax[1].imshow(imgbin_otsu[0][x_min:x_max, y_min:y_max], cmap='gray')\n",
    "ax[1].yaxis.set_visible(False)\n",
    "ax[1].set_xlabel('Otsu')\n",
    "\n",
    "ax[2].imshow(imgbin_yen[0][x_min:x_max, y_min:y_max], cmap='gray')\n",
    "ax[2].yaxis.set_visible(False)\n",
    "ax[2].set_xlabel('Yen')\n",
    "\n",
    "ax[3].imshow(imgbin_li[0][x_min:x_max, y_min:y_max], cmap='gray')\n",
    "ax[3].yaxis.set_visible(False)\n",
    "ax[3].set_xlabel('Li')\n",
    "\n",
    "ax[4].imshow(imgbin_isodata[0][x_min:x_max, y_min:y_max], cmap='gray')\n",
    "ax[4].yaxis.set_visible(False)\n",
    "ax[4].set_xlabel('ISODATA')\n",
    "\n",
    "ax[5].imshow(imgbin_triangle[0][x_min:x_max, y_min:y_max], cmap='gray')\n",
    "ax[5].yaxis.set_visible(False)\n",
    "ax[5].set_xlabel('Triangle')\n",
    "\n",
    "ax[6].imshow(imgbin_mlss[0][x_min:x_max, y_min:y_max], cmap='gray')\n",
    "ax[6].yaxis.set_visible(False)\n",
    "ax[6].set_xlabel('MLSS')"
   ]
  },
  {
   "cell_type": "code",
   "execution_count": null,
   "metadata": {
    "scrolled": false
   },
   "outputs": [],
   "source": [
    "props = regionprops(label(imgbin_mlss[0]))\n",
    "\n",
    "for i in range(50, 75):\n",
    "    x_min, y_min, x_max, y_max = props[i].bbox\n",
    "\n",
    "    fig, ax = plt.subplots(nrows=1, ncols=7, figsize=(24, 6))\n",
    "\n",
    "    ax[0].imshow(image_set[0][x_min:x_max, y_min:y_max], cmap='gray')\n",
    "    ax[0].set_xlabel('Original')\n",
    "\n",
    "    ax[1].imshow(imgbin_otsu[0][x_min:x_max, y_min:y_max], cmap='gray')\n",
    "    ax[1].yaxis.set_visible(False)\n",
    "    ax[1].set_xlabel('Otsu')\n",
    "\n",
    "    ax[2].imshow(imgbin_yen[0][x_min:x_max, y_min:y_max], cmap='gray')\n",
    "    ax[2].yaxis.set_visible(False)\n",
    "    ax[2].set_xlabel('Yen')\n",
    "\n",
    "    ax[3].imshow(imgbin_li[0][x_min:x_max, y_min:y_max], cmap='gray')\n",
    "    ax[3].yaxis.set_visible(False)\n",
    "    ax[3].set_xlabel('Li')\n",
    "\n",
    "    ax[4].imshow(imgbin_isodata[0][x_min:x_max, y_min:y_max], cmap='gray')\n",
    "    ax[4].yaxis.set_visible(False)\n",
    "    ax[4].set_xlabel('ISODATA')\n",
    "\n",
    "    ax[5].imshow(imgbin_triangle[0][x_min:x_max, y_min:y_max], cmap='gray')\n",
    "    ax[5].yaxis.set_visible(False)\n",
    "    ax[5].set_xlabel('Triangle')\n",
    "\n",
    "    ax[6].imshow(imgbin_mlss[0][x_min:x_max, y_min:y_max], cmap='gray')\n",
    "    ax[6].yaxis.set_visible(False)\n",
    "    ax[6].set_xlabel('MLSS')"
   ]
  },
  {
   "cell_type": "code",
   "execution_count": null,
   "metadata": {},
   "outputs": [],
   "source": [
    "props = regionprops(label(imgbin_mlss[0]))\n",
    "\n",
    "for i in [15, 10, 25, 72, 1, 17, 68, 55]:\n",
    "    x_min, y_min, x_max, y_max = props[i].bbox\n",
    "\n",
    "    fig, ax = plt.subplots(nrows=1, ncols=7, figsize=(24, 6))\n",
    "\n",
    "    ax[0].imshow(image_set[0][x_min:x_max, y_min:y_max], cmap='gray')\n",
    "    ax[0].set_xlabel('Original')\n",
    "\n",
    "    ax[1].imshow(imgbin_otsu[0][x_min:x_max, y_min:y_max], cmap='gray')\n",
    "    ax[1].yaxis.set_visible(False)\n",
    "    ax[1].set_xlabel('Otsu')\n",
    "\n",
    "    ax[2].imshow(imgbin_yen[0][x_min:x_max, y_min:y_max], cmap='gray')\n",
    "    ax[2].yaxis.set_visible(False)\n",
    "    ax[2].set_xlabel('Yen')\n",
    "\n",
    "    ax[3].imshow(imgbin_li[0][x_min:x_max, y_min:y_max], cmap='gray')\n",
    "    ax[3].yaxis.set_visible(False)\n",
    "    ax[3].set_xlabel('Li')\n",
    "\n",
    "    ax[4].imshow(imgbin_isodata[0][x_min:x_max, y_min:y_max], cmap='gray')\n",
    "    ax[4].yaxis.set_visible(False)\n",
    "    ax[4].set_xlabel('ISODATA')\n",
    "\n",
    "    ax[5].imshow(imgbin_triangle[0][x_min:x_max, y_min:y_max], cmap='gray')\n",
    "    ax[5].yaxis.set_visible(False)\n",
    "    ax[5].set_xlabel('Triangle')\n",
    "\n",
    "    ax[6].imshow(imgbin_mlss[0][x_min:x_max, y_min:y_max], cmap='gray')\n",
    "    ax[6].yaxis.set_visible(False)\n",
    "    ax[6].set_xlabel('MLSS')"
   ]
  },
  {
   "cell_type": "code",
   "execution_count": null,
   "metadata": {},
   "outputs": [],
   "source": []
  },
  {
   "cell_type": "code",
   "execution_count": null,
   "metadata": {},
   "outputs": [],
   "source": []
  },
  {
   "cell_type": "code",
   "execution_count": null,
   "metadata": {},
   "outputs": [],
   "source": [
    "import numpy as np\n",
    "\n",
    "\n",
    "print('Otsu variance: ', np.var([0.68, 0.70, 0.75, 0.74]))\n",
    "\n",
    "print('Yen variance: ', np.var([0.7, 0.69, 0.78, 0.71]))\n",
    "\n",
    "print('Li variance: ', np.var([0.68, 0.71, 0.75, 0.76]))\n",
    "\n",
    "print('ISODATA variance: ', np.var([0.68, 0.71, 0.75, 0.74]))\n",
    "\n",
    "print('Triangle variance: ', np.var([0.71, 0.72, 0.8, 0.73]))\n",
    "\n",
    "print('MLSS variance: ', np.var([0.74, 0.78, 0.77, 0.74]))"
   ]
  },
  {
   "cell_type": "code",
   "execution_count": null,
   "metadata": {},
   "outputs": [],
   "source": []
  },
  {
   "cell_type": "code",
   "execution_count": null,
   "metadata": {
    "scrolled": false
   },
   "outputs": [],
   "source": [
    "image = imread('orig_figures/sample1_01.jpg', as_grey=True)\n",
    "\n",
    "thresh = threshold_otsu(image)\n",
    "imgbin_otsu = binary_fill_holes(\n",
    "    remove_small_objects(image < thresh))\n",
    "\n",
    "props = regionprops(label(imgbin_otsu))\n",
    "\n",
    "img_skel = skeletonize_3d(imgbin_otsu)\n",
    "rows, cols = np.where(img_skel != 0)\n",
    "img_rgb = gray2rgb(img_as_ubyte(image))\n",
    "img_rgb[rows, cols] = [255, 0, 255]\n",
    "\n",
    "fig, ax = plt.subplots(figsize=(15, 10))\n",
    "\n",
    "for prop in props:\n",
    "    obj_info = []\n",
    "    aux = skeletonize_3d(prop.image)\n",
    "    trk_area, trk_px = ds.tracks_classify(aux)\n",
    "    count_auto = ds.count_by_region(ds.regions_and_skel(prop.image))\n",
    "    \n",
    "    x_min, y_min, x_max, y_max = prop.bbox\n",
    "    obj_info.append([prop.centroid[0],\n",
    "                     prop.centroid[1],\n",
    "                     str(count_auto[2][0][0])])\n",
    "    for obj in obj_info:\n",
    "        ax.text(obj[1], obj[0], obj[2], family='monospace', color='yellow', size='x-large', weight='bold')\n",
    "\n",
    "    if trk_area is not None:\n",
    "\n",
    "        for px in trk_px:\n",
    "            route, _ = route_through_array(~aux, px[0], px[1])\n",
    "\n",
    "            for rx in route:\n",
    "                plt.scatter(y_min+rx[1], x_min+rx[0], s=20, c='b')\n",
    "\n",
    "            for p in px:\n",
    "                plt.scatter(y_min+p[1], x_min+p[0], s=20, c='g')\n",
    "\n",
    "            rows, cols = line(x_min+px[0][0], y_min+px[0][1],\n",
    "                              x_min+px[1][0], y_min+px[1][1])\n",
    "            img_rgb[rows, cols] = [0, 255, 0]\n",
    "\n",
    "plt.imshow(img_rgb, cmap='gray')"
   ]
  },
  {
   "cell_type": "code",
   "execution_count": null,
   "metadata": {},
   "outputs": [],
   "source": []
  },
  {
   "cell_type": "markdown",
   "metadata": {},
   "source": [
    "## Notes"
   ]
  },
  {
   "cell_type": "markdown",
   "metadata": {},
   "source": [
    "### Saving counted images.\n",
    "\n",
    "* The following code saves annotated results for each image, according to the binarization algorithms."
   ]
  },
  {
   "cell_type": "markdown",
   "metadata": {},
   "source": [
    "#### Otsu"
   ]
  },
  {
   "cell_type": "code",
   "execution_count": null,
   "metadata": {},
   "outputs": [],
   "source": [
    "for idx, image in enumerate(image_set):\n",
    "    fig, ax = plt.subplots(figsize=(15, 10))\n",
    "    ax, count = ds.plot_and_count(imgbin_otsu[idx], intensity_image=image)\n",
    "    filename = 'res_figures/otsu/image' + str(idx+1) + '_otsu.eps'\n",
    "    plt.savefig(filename, bbox_inches='tight')\n",
    "    plt.clf()"
   ]
  },
  {
   "cell_type": "markdown",
   "metadata": {},
   "source": [
    "#### Yen"
   ]
  },
  {
   "cell_type": "code",
   "execution_count": null,
   "metadata": {},
   "outputs": [],
   "source": [
    "for idx, image in enumerate(image_set):\n",
    "    fig, ax = plt.subplots(figsize=(15, 10))\n",
    "    ax, count = ds.plot_and_count(imgbin_yen[idx], intensity_image=image)\n",
    "    filename = 'res_figures/yen/image' + str(idx+1) + '_yen.eps' \n",
    "    plt.savefig(filename, bbox_inches='tight')\n",
    "    plt.clf()"
   ]
  },
  {
   "cell_type": "markdown",
   "metadata": {},
   "source": [
    "#### Li"
   ]
  },
  {
   "cell_type": "code",
   "execution_count": null,
   "metadata": {},
   "outputs": [],
   "source": [
    "for idx, image in enumerate(image_set):\n",
    "    fig, ax = plt.subplots(figsize=(15, 10))\n",
    "    ax, count = ds.plot_and_count(imgbin_li[idx], intensity_image=image)\n",
    "    filename = 'res_figures/li/image' + str(idx+1) + '_li.eps' \n",
    "    plt.savefig(filename, bbox_inches='tight')\n",
    "    plt.clf()"
   ]
  },
  {
   "cell_type": "markdown",
   "metadata": {},
   "source": [
    "#### ISODATA"
   ]
  },
  {
   "cell_type": "code",
   "execution_count": null,
   "metadata": {},
   "outputs": [],
   "source": [
    "for idx, image in enumerate(image_set):\n",
    "    fig, ax = plt.subplots(figsize=(15, 10))\n",
    "    ax, count = ds.plot_and_count(imgbin_isodata[idx], intensity_image=image)\n",
    "    filename = 'res_figures/isodata/image' + str(idx+1) + '_isodata.eps' \n",
    "    plt.savefig(filename, bbox_inches='tight')\n",
    "    plt.clf()"
   ]
  },
  {
   "cell_type": "markdown",
   "metadata": {},
   "source": [
    "#### MLSS"
   ]
  },
  {
   "cell_type": "code",
   "execution_count": null,
   "metadata": {},
   "outputs": [],
   "source": [
    "for idx, image in enumerate(image_set):\n",
    "    fig, ax = plt.subplots(figsize=(15, 10))\n",
    "    ax, count = ds.plot_and_count(imgbin_mlss[idx], intensity_image=image)\n",
    "    filename = 'res_figures/mlss/image' + str(idx+1) + '_mlss.eps' \n",
    "    plt.savefig(filename, bbox_inches='tight')\n",
    "    plt.clf()"
   ]
  },
  {
   "cell_type": "code",
   "execution_count": null,
   "metadata": {},
   "outputs": [],
   "source": [
    "fig, ax = plt.subplots(figsize=(15, 10))\n",
    "ax, count = ds.plot_and_count(imgbin_otsu[0])"
   ]
  },
  {
   "cell_type": "code",
   "execution_count": null,
   "metadata": {},
   "outputs": [],
   "source": [
    "plt.figure(figsize=(15, 10))\n",
    "plt.imshow(imgbin_otsu[0])"
   ]
  },
  {
   "cell_type": "code",
   "execution_count": null,
   "metadata": {},
   "outputs": [],
   "source": [
    "image = imread('test1.jpg', as_grey=True)"
   ]
  },
  {
   "cell_type": "code",
   "execution_count": null,
   "metadata": {},
   "outputs": [],
   "source": [
    "thresh = threshold_otsu(image)\n",
    "image_bin = thresh > image"
   ]
  },
  {
   "cell_type": "code",
   "execution_count": null,
   "metadata": {},
   "outputs": [],
   "source": [
    "image_bin = binary_fill_holes(remove_small_objects(image_bin))"
   ]
  },
  {
   "cell_type": "code",
   "execution_count": null,
   "metadata": {},
   "outputs": [],
   "source": [
    "fig, ax = plt.subplots(figsize=(15, 10))\n",
    "ax, count = ds.plot_and_count(image_bin, intensity_image=image)"
   ]
  },
  {
   "cell_type": "code",
   "execution_count": null,
   "metadata": {},
   "outputs": [],
   "source": [
    "count"
   ]
  },
  {
   "cell_type": "code",
   "execution_count": null,
   "metadata": {},
   "outputs": [],
   "source": []
  }
 ],
 "metadata": {
  "kernelspec": {
   "display_name": "Python 3",
   "language": "python",
   "name": "python3"
  },
  "language_info": {
   "codemirror_mode": {
    "name": "ipython",
    "version": 3
   },
   "file_extension": ".py",
   "mimetype": "text/x-python",
   "name": "python",
   "nbconvert_exporter": "python",
   "pygments_lexer": "ipython3",
   "version": "3.5.5"
  }
 },
 "nbformat": 4,
 "nbformat_minor": 2
}
